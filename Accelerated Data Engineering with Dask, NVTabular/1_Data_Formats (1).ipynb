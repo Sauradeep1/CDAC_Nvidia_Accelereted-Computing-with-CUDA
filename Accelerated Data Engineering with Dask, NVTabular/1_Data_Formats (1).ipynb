{
 "cells": [
  {
   "cell_type": "markdown",
   "metadata": {},
   "source": [
    "<a href=\"https://www.nvidia.com/dli\"> <img src=\"images/DLI_Header.png\" alt=\"Header\" style=\"width: 400px;\"/> </a>"
   ]
  },
  {
   "cell_type": "markdown",
   "metadata": {},
   "source": [
    "# Data Formats"
   ]
  },
  {
   "cell_type": "markdown",
   "metadata": {},
   "source": [
    "Data can exist in all shapes and sizes. We will start by looking at NOAA's [Tides & Currents](https://tidesandcurrents.noaa.gov/) dataset as presented in different data formats. Specifically, we will be looking at water levels as used to represent local tide information.\n",
    "\n",
    "<div style=\"text-align:center\"><img src='images/water_dash.png' width=500></div>\n",
    "\n",
    "## Objectives\n",
    "* Learn the differences between the following file types and when best to use them:\n",
    " * [JSON](https://www.json.org/json-en.html)\n",
    " * [CSV](https://datahub.io/docs/data-packages/csv/)\n",
    " * [Parquet](https://parquet.apache.org/documentation/latest/)\n",
    "* Learn the differences between the following libraries/framework and when best to use them:\n",
    " * [pandas](https://pandas.pydata.org/)\n",
    " * [cuDF](https://docs.rapids.ai/api/cudf/stable/)\n",
    " * [Dask](https://dask.org/)\n",
    " \n",
    "First, let's get these libraries loaded."
   ]
  },
  {
   "cell_type": "code",
   "execution_count": 2,
   "metadata": {},
   "outputs": [],
   "source": [
    "import cudf\n",
    "import dask.dataframe as dd\n",
    "import dask_cudf\n",
    "import json\n",
    "import pandas as pd\n",
    "import time\n",
    "import urllib\n",
    "\n",
    "class Timer:\n",
    "    def __enter__(self):\n",
    "        self.start = time.perf_counter()\n",
    "        return self\n",
    "    \n",
    "    def __exit__(self, *args):\n",
    "        self.end = time.perf_counter()\n",
    "        self.interval = self.end - self.start"
   ]
  },
  {
   "cell_type": "markdown",
   "metadata": {},
   "source": [
    "## Data Formats"
   ]
  },
  {
   "cell_type": "markdown",
   "metadata": {},
   "source": [
    "### JSON"
   ]
  },
  {
   "cell_type": "markdown",
   "metadata": {},
   "source": [
    "To begin, let us pull our data directly from NOAA's [CO-OPS API](https://api.tidesandcurrents.noaa.gov/api/prod/). In particular, we will be looking at the water level of a body of water of your choosing.\n",
    "\n",
    "As a web API, we will need to craft a [Uniform Resource Locator](https://developer.mozilla.org/en-US/docs/Learn/Common_questions/What_is_a_URL) (URL) in order to retrieve data from it. This API is flexible and uses several parameters:\n",
    "\n",
    "* `station`: A numerical ID of the station doing the surveying.\n",
    "* `range`: How many hours back to retrieve the data from the current time.\n",
    "* `units`: Can be `english` or `metric`.\n",
    "* `datum`: The [reference elevation](https://tidesandcurrents.noaa.gov/datum_options.html) to use.\n",
    "  * Different stations have a different set of datums available.\n",
    "* `format`: The type of file to return. Can be `json`, `xml`, or `csv`.\n",
    "\n",
    "**TODO**: Pick a station from NOAA's [Water Level Website](https://tidesandcurrents.noaa.gov/stations.html?type=Water+Levels) and update the `station` parameter below with its 7 digit ID number as a string. Many stations use the `MLLW` datum, but not all of them do. In order to find out which datums are available, use the dropdown at the bottom of the station's dashboard:\n",
    "\n",
    "<div style=\"text-align:center\"><img src='images/datum.png' width=500></div>\n",
    "\n",
    "**Hint**: If you receive a `400 Bad Request` error, click on the generated link to view the error message. Click the `...` for one possible solution.\n",
    "\n",
    "It should also be noted that this is a live data API and there is a chance that it may be experiencing downtime. In such case, we have saved a sample in [data/sample_json.txt](data/sample_json.txt)."
   ]
  },
  {
   "cell_type": "code",
   "execution_count": 3,
   "metadata": {},
   "outputs": [
    {
     "name": "stdout",
     "output_type": "stream",
     "text": [
      "https://api.tidesandcurrents.noaa.gov/api/prod/datagetter?station=FIXME&range=2&product=water_level&units=english&datum=MLLW&time_zone=gmt&application=nvidia_dli&format=json\n"
     ]
    },
    {
     "ename": "HTTPError",
     "evalue": "HTTP Error 400: Bad Request",
     "output_type": "error",
     "traceback": [
      "\u001b[0;31m---------------------------------------------------------------------------\u001b[0m",
      "\u001b[0;31mHTTPError\u001b[0m                                 Traceback (most recent call last)",
      "\u001b[0;32m<ipython-input-3-1707223ca3e4>\u001b[0m in \u001b[0;36m<module>\u001b[0;34m\u001b[0m\n\u001b[1;32m     15\u001b[0m \u001b[0mprint\u001b[0m\u001b[0;34m(\u001b[0m\u001b[0murl\u001b[0m\u001b[0;34m)\u001b[0m\u001b[0;34m\u001b[0m\u001b[0;34m\u001b[0m\u001b[0m\n\u001b[1;32m     16\u001b[0m \u001b[0;34m\u001b[0m\u001b[0m\n\u001b[0;32m---> 17\u001b[0;31m \u001b[0;32mwith\u001b[0m \u001b[0murllib\u001b[0m\u001b[0;34m.\u001b[0m\u001b[0mrequest\u001b[0m\u001b[0;34m.\u001b[0m\u001b[0murlopen\u001b[0m\u001b[0;34m(\u001b[0m\u001b[0murl\u001b[0m\u001b[0;34m)\u001b[0m \u001b[0;32mas\u001b[0m \u001b[0murl\u001b[0m\u001b[0;34m:\u001b[0m\u001b[0;34m\u001b[0m\u001b[0;34m\u001b[0m\u001b[0m\n\u001b[0m\u001b[1;32m     18\u001b[0m     \u001b[0mdata\u001b[0m \u001b[0;34m=\u001b[0m \u001b[0mjson\u001b[0m\u001b[0;34m.\u001b[0m\u001b[0mloads\u001b[0m\u001b[0;34m(\u001b[0m\u001b[0murl\u001b[0m\u001b[0;34m.\u001b[0m\u001b[0mread\u001b[0m\u001b[0;34m(\u001b[0m\u001b[0;34m)\u001b[0m\u001b[0;34m.\u001b[0m\u001b[0mdecode\u001b[0m\u001b[0;34m(\u001b[0m\u001b[0;34m)\u001b[0m\u001b[0;34m)\u001b[0m\u001b[0;34m\u001b[0m\u001b[0;34m\u001b[0m\u001b[0m\n\u001b[1;32m     19\u001b[0m     \u001b[0mprint\u001b[0m\u001b[0;34m(\u001b[0m\u001b[0mjson\u001b[0m\u001b[0;34m.\u001b[0m\u001b[0mdumps\u001b[0m\u001b[0;34m(\u001b[0m\u001b[0mdata\u001b[0m\u001b[0;34m,\u001b[0m \u001b[0mindent\u001b[0m\u001b[0;34m=\u001b[0m\u001b[0;36m4\u001b[0m\u001b[0;34m)\u001b[0m\u001b[0;34m)\u001b[0m\u001b[0;34m\u001b[0m\u001b[0;34m\u001b[0m\u001b[0m\n",
      "\u001b[0;32m/opt/conda/envs/rapids/lib/python3.7/urllib/request.py\u001b[0m in \u001b[0;36murlopen\u001b[0;34m(url, data, timeout, cafile, capath, cadefault, context)\u001b[0m\n\u001b[1;32m    220\u001b[0m     \u001b[0;32melse\u001b[0m\u001b[0;34m:\u001b[0m\u001b[0;34m\u001b[0m\u001b[0;34m\u001b[0m\u001b[0m\n\u001b[1;32m    221\u001b[0m         \u001b[0mopener\u001b[0m \u001b[0;34m=\u001b[0m \u001b[0m_opener\u001b[0m\u001b[0;34m\u001b[0m\u001b[0;34m\u001b[0m\u001b[0m\n\u001b[0;32m--> 222\u001b[0;31m     \u001b[0;32mreturn\u001b[0m \u001b[0mopener\u001b[0m\u001b[0;34m.\u001b[0m\u001b[0mopen\u001b[0m\u001b[0;34m(\u001b[0m\u001b[0murl\u001b[0m\u001b[0;34m,\u001b[0m \u001b[0mdata\u001b[0m\u001b[0;34m,\u001b[0m \u001b[0mtimeout\u001b[0m\u001b[0;34m)\u001b[0m\u001b[0;34m\u001b[0m\u001b[0;34m\u001b[0m\u001b[0m\n\u001b[0m\u001b[1;32m    223\u001b[0m \u001b[0;34m\u001b[0m\u001b[0m\n\u001b[1;32m    224\u001b[0m \u001b[0;32mdef\u001b[0m \u001b[0minstall_opener\u001b[0m\u001b[0;34m(\u001b[0m\u001b[0mopener\u001b[0m\u001b[0;34m)\u001b[0m\u001b[0;34m:\u001b[0m\u001b[0;34m\u001b[0m\u001b[0;34m\u001b[0m\u001b[0m\n",
      "\u001b[0;32m/opt/conda/envs/rapids/lib/python3.7/urllib/request.py\u001b[0m in \u001b[0;36mopen\u001b[0;34m(self, fullurl, data, timeout)\u001b[0m\n\u001b[1;32m    529\u001b[0m         \u001b[0;32mfor\u001b[0m \u001b[0mprocessor\u001b[0m \u001b[0;32min\u001b[0m \u001b[0mself\u001b[0m\u001b[0;34m.\u001b[0m\u001b[0mprocess_response\u001b[0m\u001b[0;34m.\u001b[0m\u001b[0mget\u001b[0m\u001b[0;34m(\u001b[0m\u001b[0mprotocol\u001b[0m\u001b[0;34m,\u001b[0m \u001b[0;34m[\u001b[0m\u001b[0;34m]\u001b[0m\u001b[0;34m)\u001b[0m\u001b[0;34m:\u001b[0m\u001b[0;34m\u001b[0m\u001b[0;34m\u001b[0m\u001b[0m\n\u001b[1;32m    530\u001b[0m             \u001b[0mmeth\u001b[0m \u001b[0;34m=\u001b[0m \u001b[0mgetattr\u001b[0m\u001b[0;34m(\u001b[0m\u001b[0mprocessor\u001b[0m\u001b[0;34m,\u001b[0m \u001b[0mmeth_name\u001b[0m\u001b[0;34m)\u001b[0m\u001b[0;34m\u001b[0m\u001b[0;34m\u001b[0m\u001b[0m\n\u001b[0;32m--> 531\u001b[0;31m             \u001b[0mresponse\u001b[0m \u001b[0;34m=\u001b[0m \u001b[0mmeth\u001b[0m\u001b[0;34m(\u001b[0m\u001b[0mreq\u001b[0m\u001b[0;34m,\u001b[0m \u001b[0mresponse\u001b[0m\u001b[0;34m)\u001b[0m\u001b[0;34m\u001b[0m\u001b[0;34m\u001b[0m\u001b[0m\n\u001b[0m\u001b[1;32m    532\u001b[0m \u001b[0;34m\u001b[0m\u001b[0m\n\u001b[1;32m    533\u001b[0m         \u001b[0;32mreturn\u001b[0m \u001b[0mresponse\u001b[0m\u001b[0;34m\u001b[0m\u001b[0;34m\u001b[0m\u001b[0m\n",
      "\u001b[0;32m/opt/conda/envs/rapids/lib/python3.7/urllib/request.py\u001b[0m in \u001b[0;36mhttp_response\u001b[0;34m(self, request, response)\u001b[0m\n\u001b[1;32m    639\u001b[0m         \u001b[0;32mif\u001b[0m \u001b[0;32mnot\u001b[0m \u001b[0;34m(\u001b[0m\u001b[0;36m200\u001b[0m \u001b[0;34m<=\u001b[0m \u001b[0mcode\u001b[0m \u001b[0;34m<\u001b[0m \u001b[0;36m300\u001b[0m\u001b[0;34m)\u001b[0m\u001b[0;34m:\u001b[0m\u001b[0;34m\u001b[0m\u001b[0;34m\u001b[0m\u001b[0m\n\u001b[1;32m    640\u001b[0m             response = self.parent.error(\n\u001b[0;32m--> 641\u001b[0;31m                 'http', request, response, code, msg, hdrs)\n\u001b[0m\u001b[1;32m    642\u001b[0m \u001b[0;34m\u001b[0m\u001b[0m\n\u001b[1;32m    643\u001b[0m         \u001b[0;32mreturn\u001b[0m \u001b[0mresponse\u001b[0m\u001b[0;34m\u001b[0m\u001b[0;34m\u001b[0m\u001b[0m\n",
      "\u001b[0;32m/opt/conda/envs/rapids/lib/python3.7/urllib/request.py\u001b[0m in \u001b[0;36merror\u001b[0;34m(self, proto, *args)\u001b[0m\n\u001b[1;32m    567\u001b[0m         \u001b[0;32mif\u001b[0m \u001b[0mhttp_err\u001b[0m\u001b[0;34m:\u001b[0m\u001b[0;34m\u001b[0m\u001b[0;34m\u001b[0m\u001b[0m\n\u001b[1;32m    568\u001b[0m             \u001b[0margs\u001b[0m \u001b[0;34m=\u001b[0m \u001b[0;34m(\u001b[0m\u001b[0mdict\u001b[0m\u001b[0;34m,\u001b[0m \u001b[0;34m'default'\u001b[0m\u001b[0;34m,\u001b[0m \u001b[0;34m'http_error_default'\u001b[0m\u001b[0;34m)\u001b[0m \u001b[0;34m+\u001b[0m \u001b[0morig_args\u001b[0m\u001b[0;34m\u001b[0m\u001b[0;34m\u001b[0m\u001b[0m\n\u001b[0;32m--> 569\u001b[0;31m             \u001b[0;32mreturn\u001b[0m \u001b[0mself\u001b[0m\u001b[0;34m.\u001b[0m\u001b[0m_call_chain\u001b[0m\u001b[0;34m(\u001b[0m\u001b[0;34m*\u001b[0m\u001b[0margs\u001b[0m\u001b[0;34m)\u001b[0m\u001b[0;34m\u001b[0m\u001b[0;34m\u001b[0m\u001b[0m\n\u001b[0m\u001b[1;32m    570\u001b[0m \u001b[0;34m\u001b[0m\u001b[0m\n\u001b[1;32m    571\u001b[0m \u001b[0;31m# XXX probably also want an abstract factory that knows when it makes\u001b[0m\u001b[0;34m\u001b[0m\u001b[0;34m\u001b[0m\u001b[0;34m\u001b[0m\u001b[0m\n",
      "\u001b[0;32m/opt/conda/envs/rapids/lib/python3.7/urllib/request.py\u001b[0m in \u001b[0;36m_call_chain\u001b[0;34m(self, chain, kind, meth_name, *args)\u001b[0m\n\u001b[1;32m    501\u001b[0m         \u001b[0;32mfor\u001b[0m \u001b[0mhandler\u001b[0m \u001b[0;32min\u001b[0m \u001b[0mhandlers\u001b[0m\u001b[0;34m:\u001b[0m\u001b[0;34m\u001b[0m\u001b[0;34m\u001b[0m\u001b[0m\n\u001b[1;32m    502\u001b[0m             \u001b[0mfunc\u001b[0m \u001b[0;34m=\u001b[0m \u001b[0mgetattr\u001b[0m\u001b[0;34m(\u001b[0m\u001b[0mhandler\u001b[0m\u001b[0;34m,\u001b[0m \u001b[0mmeth_name\u001b[0m\u001b[0;34m)\u001b[0m\u001b[0;34m\u001b[0m\u001b[0;34m\u001b[0m\u001b[0m\n\u001b[0;32m--> 503\u001b[0;31m             \u001b[0mresult\u001b[0m \u001b[0;34m=\u001b[0m \u001b[0mfunc\u001b[0m\u001b[0;34m(\u001b[0m\u001b[0;34m*\u001b[0m\u001b[0margs\u001b[0m\u001b[0;34m)\u001b[0m\u001b[0;34m\u001b[0m\u001b[0;34m\u001b[0m\u001b[0m\n\u001b[0m\u001b[1;32m    504\u001b[0m             \u001b[0;32mif\u001b[0m \u001b[0mresult\u001b[0m \u001b[0;32mis\u001b[0m \u001b[0;32mnot\u001b[0m \u001b[0;32mNone\u001b[0m\u001b[0;34m:\u001b[0m\u001b[0;34m\u001b[0m\u001b[0;34m\u001b[0m\u001b[0m\n\u001b[1;32m    505\u001b[0m                 \u001b[0;32mreturn\u001b[0m \u001b[0mresult\u001b[0m\u001b[0;34m\u001b[0m\u001b[0;34m\u001b[0m\u001b[0m\n",
      "\u001b[0;32m/opt/conda/envs/rapids/lib/python3.7/urllib/request.py\u001b[0m in \u001b[0;36mhttp_error_default\u001b[0;34m(self, req, fp, code, msg, hdrs)\u001b[0m\n\u001b[1;32m    647\u001b[0m \u001b[0;32mclass\u001b[0m \u001b[0mHTTPDefaultErrorHandler\u001b[0m\u001b[0;34m(\u001b[0m\u001b[0mBaseHandler\u001b[0m\u001b[0;34m)\u001b[0m\u001b[0;34m:\u001b[0m\u001b[0;34m\u001b[0m\u001b[0;34m\u001b[0m\u001b[0m\n\u001b[1;32m    648\u001b[0m     \u001b[0;32mdef\u001b[0m \u001b[0mhttp_error_default\u001b[0m\u001b[0;34m(\u001b[0m\u001b[0mself\u001b[0m\u001b[0;34m,\u001b[0m \u001b[0mreq\u001b[0m\u001b[0;34m,\u001b[0m \u001b[0mfp\u001b[0m\u001b[0;34m,\u001b[0m \u001b[0mcode\u001b[0m\u001b[0;34m,\u001b[0m \u001b[0mmsg\u001b[0m\u001b[0;34m,\u001b[0m \u001b[0mhdrs\u001b[0m\u001b[0;34m)\u001b[0m\u001b[0;34m:\u001b[0m\u001b[0;34m\u001b[0m\u001b[0;34m\u001b[0m\u001b[0m\n\u001b[0;32m--> 649\u001b[0;31m         \u001b[0;32mraise\u001b[0m \u001b[0mHTTPError\u001b[0m\u001b[0;34m(\u001b[0m\u001b[0mreq\u001b[0m\u001b[0;34m.\u001b[0m\u001b[0mfull_url\u001b[0m\u001b[0;34m,\u001b[0m \u001b[0mcode\u001b[0m\u001b[0;34m,\u001b[0m \u001b[0mmsg\u001b[0m\u001b[0;34m,\u001b[0m \u001b[0mhdrs\u001b[0m\u001b[0;34m,\u001b[0m \u001b[0mfp\u001b[0m\u001b[0;34m)\u001b[0m\u001b[0;34m\u001b[0m\u001b[0;34m\u001b[0m\u001b[0m\n\u001b[0m\u001b[1;32m    650\u001b[0m \u001b[0;34m\u001b[0m\u001b[0m\n\u001b[1;32m    651\u001b[0m \u001b[0;32mclass\u001b[0m \u001b[0mHTTPRedirectHandler\u001b[0m\u001b[0;34m(\u001b[0m\u001b[0mBaseHandler\u001b[0m\u001b[0;34m)\u001b[0m\u001b[0;34m:\u001b[0m\u001b[0;34m\u001b[0m\u001b[0;34m\u001b[0m\u001b[0m\n",
      "\u001b[0;31mHTTPError\u001b[0m: HTTP Error 400: Bad Request"
     ]
    }
   ],
   "source": [
    "url_base = \"https://api.tidesandcurrents.noaa.gov/api/prod/datagetter?\"\n",
    "\n",
    "url_parameters = {\n",
    "    \"station\": \"FIXME\", # Add a station ID of your choosing. Please keep the quotes.\n",
    "    \"range\": 2,  # Please keep this in the single digits for now.\n",
    "    \"product\": \"water_level\",\n",
    "    \"units\": \"english\",\n",
    "    \"datum\": \"MLLW\",\n",
    "    \"time_zone\": \"gmt\",\n",
    "    \"application\": \"nvidia_dli\",\n",
    "    \"format\": \"json\"\n",
    "}\n",
    "\n",
    "url = url_base + urllib.parse.urlencode(url_parameters)\n",
    "print(url)\n",
    "\n",
    "with urllib.request.urlopen(url) as url:\n",
    "    data = json.loads(url.read().decode())\n",
    "    print(json.dumps(data, indent=4))"
   ]
  },
  {
   "cell_type": "code",
   "execution_count": 4,
   "metadata": {},
   "outputs": [
    {
     "name": "stdout",
     "output_type": "stream",
     "text": [
      "https://api.tidesandcurrents.noaa.gov/api/prod/datagetter?station=9063009&range=2&product=water_level&units=english&datum=IGLD&time_zone=gmt&application=ports_screen&format=json\n",
      "{\n",
      "    \"metadata\": {\n",
      "        \"id\": \"9063009\",\n",
      "        \"name\": \"American Falls\",\n",
      "        \"lat\": \"43.0811\",\n",
      "        \"lon\": \"-79.0614\"\n",
      "    },\n",
      "    \"data\": [\n",
      "        {\n",
      "            \"t\": \"2022-02-12 03:42\",\n",
      "            \"v\": \"559.029\",\n",
      "            \"s\": \"0.020\",\n",
      "            \"f\": \"0,0,0,0\",\n",
      "            \"q\": \"p\"\n",
      "        },\n",
      "        {\n",
      "            \"t\": \"2022-02-12 03:48\",\n",
      "            \"v\": \"559.032\",\n",
      "            \"s\": \"0.016\",\n",
      "            \"f\": \"0,0,0,0\",\n",
      "            \"q\": \"p\"\n",
      "        },\n",
      "        {\n",
      "            \"t\": \"2022-02-12 03:54\",\n",
      "            \"v\": \"559.045\",\n",
      "            \"s\": \"0.030\",\n",
      "            \"f\": \"0,0,0,0\",\n",
      "            \"q\": \"p\"\n",
      "        },\n",
      "        {\n",
      "            \"t\": \"2022-02-12 04:00\",\n",
      "            \"v\": \"559.068\",\n",
      "            \"s\": \"0.016\",\n",
      "            \"f\": \"0,0,0,0\",\n",
      "            \"q\": \"p\"\n",
      "        },\n",
      "        {\n",
      "            \"t\": \"2022-02-12 04:06\",\n",
      "            \"v\": \"559.055\",\n",
      "            \"s\": \"0.013\",\n",
      "            \"f\": \"0,0,0,0\",\n",
      "            \"q\": \"p\"\n",
      "        },\n",
      "        {\n",
      "            \"t\": \"2022-02-12 04:12\",\n",
      "            \"v\": \"559.026\",\n",
      "            \"s\": \"0.016\",\n",
      "            \"f\": \"0,0,0,0\",\n",
      "            \"q\": \"p\"\n",
      "        },\n",
      "        {\n",
      "            \"t\": \"2022-02-12 04:18\",\n",
      "            \"v\": \"559.098\",\n",
      "            \"s\": \"0.007\",\n",
      "            \"f\": \"1,0,0,0\",\n",
      "            \"q\": \"p\"\n",
      "        },\n",
      "        {\n",
      "            \"t\": \"2022-02-12 04:24\",\n",
      "            \"v\": \"559.075\",\n",
      "            \"s\": \"0.030\",\n",
      "            \"f\": \"0,0,0,0\",\n",
      "            \"q\": \"p\"\n",
      "        },\n",
      "        {\n",
      "            \"t\": \"2022-02-12 04:30\",\n",
      "            \"v\": \"558.999\",\n",
      "            \"s\": \"0.007\",\n",
      "            \"f\": \"0,0,0,0\",\n",
      "            \"q\": \"p\"\n",
      "        },\n",
      "        {\n",
      "            \"t\": \"2022-02-12 04:36\",\n",
      "            \"v\": \"559.003\",\n",
      "            \"s\": \"0.003\",\n",
      "            \"f\": \"0,0,0,0\",\n",
      "            \"q\": \"p\"\n",
      "        },\n",
      "        {\n",
      "            \"t\": \"2022-02-12 04:42\",\n",
      "            \"v\": \"558.999\",\n",
      "            \"s\": \"0.000\",\n",
      "            \"f\": \"1,0,0,0\",\n",
      "            \"q\": \"p\"\n",
      "        },\n",
      "        {\n",
      "            \"t\": \"2022-02-12 04:48\",\n",
      "            \"v\": \"559.016\",\n",
      "            \"s\": \"0.007\",\n",
      "            \"f\": \"0,0,0,0\",\n",
      "            \"q\": \"p\"\n",
      "        },\n",
      "        {\n",
      "            \"t\": \"2022-02-12 04:54\",\n",
      "            \"v\": \"559.016\",\n",
      "            \"s\": \"0.007\",\n",
      "            \"f\": \"0,0,0,0\",\n",
      "            \"q\": \"p\"\n",
      "        },\n",
      "        {\n",
      "            \"t\": \"2022-02-12 05:00\",\n",
      "            \"v\": \"558.970\",\n",
      "            \"s\": \"0.016\",\n",
      "            \"f\": \"0,0,0,0\",\n",
      "            \"q\": \"p\"\n",
      "        },\n",
      "        {\n",
      "            \"t\": \"2022-02-12 05:06\",\n",
      "            \"v\": \"558.927\",\n",
      "            \"s\": \"0.016\",\n",
      "            \"f\": \"0,0,0,0\",\n",
      "            \"q\": \"p\"\n",
      "        },\n",
      "        {\n",
      "            \"t\": \"2022-02-12 05:12\",\n",
      "            \"v\": \"558.960\",\n",
      "            \"s\": \"0.013\",\n",
      "            \"f\": \"0,0,0,0\",\n",
      "            \"q\": \"p\"\n",
      "        },\n",
      "        {\n",
      "            \"t\": \"2022-02-12 05:18\",\n",
      "            \"v\": \"558.904\",\n",
      "            \"s\": \"0.020\",\n",
      "            \"f\": \"0,0,0,0\",\n",
      "            \"q\": \"p\"\n",
      "        },\n",
      "        {\n",
      "            \"t\": \"2022-02-12 05:24\",\n",
      "            \"v\": \"558.907\",\n",
      "            \"s\": \"0.007\",\n",
      "            \"f\": \"0,0,0,0\",\n",
      "            \"q\": \"p\"\n",
      "        }\n",
      "    ]\n",
      "}\n"
     ]
    }
   ],
   "source": [
    "url_base = \"https://api.tidesandcurrents.noaa.gov/api/prod/datagetter?\"\n",
    "\n",
    "url_parameters = {\n",
    "    \"station\": \"9063009\",\n",
    "    \"range\": 2,  # Please keep this in the single digits for now.\n",
    "    \"product\": \"water_level\",\n",
    "    \"units\": \"english\",\n",
    "    \"datum\": \"IGLD\",\n",
    "    \"time_zone\": \"gmt\",\n",
    "    \"application\": \"ports_screen\",\n",
    "    \"format\": \"json\"\n",
    "}\n",
    "\n",
    "url = url_base + urllib.parse.urlencode(url_parameters)\n",
    "print(url)\n",
    "\n",
    "with urllib.request.urlopen(url) as url:\n",
    "    data = json.loads(url.read().decode())\n",
    "    print(json.dumps(data, indent=4))"
   ]
  },
  {
   "cell_type": "markdown",
   "metadata": {},
   "source": [
    "Now that we have our data, what does it mean? The result has been split into two main categories:\n",
    "* `metadata`: Overall information about the result.\n",
    " * `id`: Our chosen station ID.\n",
    " * `name`: The name of the station.\n",
    " * `lat`: The latitude of the station.\n",
    " * `lon`: The longitude of the station.\n",
    "* `data`: The water level readings within the past `2` hours.\n",
    " * `t`: The timestamp of the reading.\n",
    " * `v`: The value of the reading.\n",
    " * `s`: The standard deviation (Sigma) of the reading.\n",
    "   * If there a multiple values within a one second window, a standard deviation is given.\n",
    " * `f`: Four different quality flags.\n",
    "   * See the [documentation](https://coastwatch.pfeg.noaa.gov/erddap/info/nosCoopsWLR6/index.html) for more information.\n",
    " * `q`: Whether the data is (P)relimary or (V)erified.\n",
    " \n",
    "While this format is useful for building a web page, we can see that it is not compact. The field names for the data are repeated for each reading. (This is likely why NOAA uses one letter field names: to save space). In order to see how long it takes to load the data locally, let's grab more data and save it to `.txt` file.\n",
    "\n",
    "**TODO**: The CO-OPS API supports pulling data for the past year. Replace the FIXMEs below to pull a year's worth of data and save it. The [json](https://docs.python.org/3/library/json.html) documentation may be useful."
   ]
  },
  {
   "cell_type": "code",
   "execution_count": 5,
   "metadata": {},
   "outputs": [
    {
     "ename": "AttributeError",
     "evalue": "module 'json' has no attribute 'FIXME'",
     "output_type": "error",
     "traceback": [
      "\u001b[0;31m---------------------------------------------------------------------------\u001b[0m",
      "\u001b[0;31mAttributeError\u001b[0m                            Traceback (most recent call last)",
      "\u001b[0;32m<ipython-input-5-15e112d87a90>\u001b[0m in \u001b[0;36m<module>\u001b[0;34m\u001b[0m\n\u001b[1;32m      3\u001b[0m \u001b[0;34m\u001b[0m\u001b[0m\n\u001b[1;32m      4\u001b[0m \u001b[0;32mwith\u001b[0m \u001b[0murllib\u001b[0m\u001b[0;34m.\u001b[0m\u001b[0mrequest\u001b[0m\u001b[0;34m.\u001b[0m\u001b[0murlopen\u001b[0m\u001b[0;34m(\u001b[0m\u001b[0murl\u001b[0m\u001b[0;34m)\u001b[0m \u001b[0;32mas\u001b[0m \u001b[0murl\u001b[0m\u001b[0;34m:\u001b[0m\u001b[0;34m\u001b[0m\u001b[0;34m\u001b[0m\u001b[0m\n\u001b[0;32m----> 5\u001b[0;31m     \u001b[0mdata\u001b[0m \u001b[0;34m=\u001b[0m \u001b[0mjson\u001b[0m\u001b[0;34m.\u001b[0m\u001b[0mFIXME\u001b[0m\u001b[0;34m(\u001b[0m\u001b[0murl\u001b[0m\u001b[0;34m.\u001b[0m\u001b[0mread\u001b[0m\u001b[0;34m(\u001b[0m\u001b[0;34m)\u001b[0m\u001b[0;34m.\u001b[0m\u001b[0mdecode\u001b[0m\u001b[0;34m(\u001b[0m\u001b[0;34m)\u001b[0m\u001b[0;34m)\u001b[0m\u001b[0;34m\u001b[0m\u001b[0;34m\u001b[0m\u001b[0m\n\u001b[0m\u001b[1;32m      6\u001b[0m \u001b[0;34m\u001b[0m\u001b[0m\n\u001b[1;32m      7\u001b[0m \u001b[0;32mwith\u001b[0m \u001b[0mopen\u001b[0m\u001b[0;34m(\u001b[0m\u001b[0;34m\"data/\"\u001b[0m \u001b[0;34m+\u001b[0m \u001b[0murl_parameters\u001b[0m\u001b[0;34m[\u001b[0m\u001b[0;34m\"station\"\u001b[0m\u001b[0;34m]\u001b[0m \u001b[0;34m+\u001b[0m \u001b[0;34m\".txt\"\u001b[0m\u001b[0;34m,\u001b[0m \u001b[0;34m'w'\u001b[0m\u001b[0;34m)\u001b[0m \u001b[0;32mas\u001b[0m \u001b[0moutfile\u001b[0m\u001b[0;34m:\u001b[0m\u001b[0;34m\u001b[0m\u001b[0;34m\u001b[0m\u001b[0m\n",
      "\u001b[0;31mAttributeError\u001b[0m: module 'json' has no attribute 'FIXME'"
     ]
    }
   ],
   "source": [
    "url_parameters[\"range\"] = 365 * 24\n",
    "url = url_base + urllib.parse.urlencode(url_parameters)\n",
    "\n",
    "with urllib.request.urlopen(url) as url:\n",
    "    data = json.FIXME(url.read().decode())\n",
    "\n",
    "with open(\"data/\" + url_parameters[\"station\"] + \".txt\", 'w') as outfile:\n",
    "    FIXME.dump(data[\"data\"], outfile, indent=4)"
   ]
  },
  {
   "cell_type": "code",
   "execution_count": 6,
   "metadata": {},
   "outputs": [],
   "source": [
    "url_parameters[\"range\"] = 365 * 24\n",
    "url = url_base + urllib.parse.urlencode(url_parameters)\n",
    "\n",
    "with urllib.request.urlopen(url) as url:\n",
    "    data = json.loads(url.read().decode())\n",
    "\n",
    "with open(\"data/\" + url_parameters[\"station\"] + \".txt\", 'w') as outfile:\n",
    "    json.dump(data[\"data\"], outfile, indent=4)"
   ]
  },
  {
   "cell_type": "markdown",
   "metadata": {},
   "source": [
    "To check the data file, we can use the [head](https://linux.die.net/man/1/head) command to avoid displaying the entire, potentially large, file. We can also use the [cut](https://linux.die.net/man/1/cut) command to cut each line down to 80 characters. Feel free to replace `sample_json` with your chosen station ID."
   ]
  },
  {
   "cell_type": "code",
   "execution_count": 7,
   "metadata": {},
   "outputs": [
    {
     "name": "stdout",
     "output_type": "stream",
     "text": [
      "[\n",
      "    {\n",
      "        \"t\": \"2020-04-28 06:06\",\n",
      "        \"v\": \"558.937\",\n",
      "        \"s\": \"0.000\",\n",
      "        \"f\": \"0,0,0,0\",\n",
      "        \"q\": \"v\"\n",
      "    },\n",
      "    {\n",
      "        \"t\": \"2020-04-28 06:12\",\n"
     ]
    }
   ],
   "source": [
    "!head data/sample_json.txt | cut -c -80"
   ]
  },
  {
   "cell_type": "markdown",
   "metadata": {},
   "source": [
    "Terminal tools are handy, but if we want to do analysis on these files, it's best to load them into a [DataFrame](https://pandas.pydata.org/pandas-docs/stable/user_guide/dsintro.html#dataframe) which is like a spreadsheet in a programming object.\n",
    "\n",
    "[pandas](https://pandas.pydata.org/) and [cuDF](https://docs.rapids.ai/api/cudf/stable/) are similar libraries for reading and manipulating DataFrames, with one key difference: `pandas` loads data and performs computations on the CPU whereas `cuDF` does so on the GPU. Let's compare how quickly both of these library reads JSON.\n",
    "\n",
    "**TODO**: Replace `data/sample_json.txt` with the path to your downloaded station data. Run the below cell **twice**. The read time for GPU should drop dramatically as cuDF is initialized."
   ]
  },
  {
   "cell_type": "code",
   "execution_count": 10,
   "metadata": {},
   "outputs": [
    {
     "name": "stderr",
     "output_type": "stream",
     "text": [
      "/opt/conda/envs/rapids/lib/python3.7/site-packages/cudf/io/json.py:52: UserWarning: Using CPU via Pandas to read JSON dataset, this may be GPU accelerated in the future\n",
      "  \"Using CPU via Pandas to read JSON dataset, this may \"\n"
     ]
    },
    {
     "data": {
      "text/plain": [
       "'json       pd:  0.16162s cudf:  0.19901s'"
      ]
     },
     "execution_count": 10,
     "metadata": {},
     "output_type": "execute_result"
    }
   ],
   "source": [
    "file_path = \"data/sample_json.txt\"  # Replace with your file path\n",
    "\n",
    "with Timer() as t_pd:\n",
    "    df_cpu = pd.read_json(file_path, orient=\"records\")\n",
    "with Timer() as t_cudf:\n",
    "    df_gpu = cudf.read_json(file_path)\n",
    "\n",
    "\"{:10s} pd: {:>8.5f}s cudf: {:>8.5f}s\".format(\"json\", t_pd.interval, t_cudf.interval)"
   ]
  },
  {
   "cell_type": "markdown",
   "metadata": {},
   "source": [
    "Reading is useful, but so is the ability to write. Let's convert our data into CSV, parquet, and ZIP: three other file formats that we will be exploring.\n",
    "\n",
    "First, [to_csv](https://pandas.pydata.org/docs/reference/api/pandas.DataFrame.to_csv.html)."
   ]
  },
  {
   "cell_type": "code",
   "execution_count": 11,
   "metadata": {},
   "outputs": [
    {
     "data": {
      "text/plain": [
       "'csv        pd:  0.13340s cudf:  0.01050s'"
      ]
     },
     "execution_count": 11,
     "metadata": {},
     "output_type": "execute_result"
    }
   ],
   "source": [
    "file_path = \"data/sample_data.csv\"\n",
    "\n",
    "with Timer() as t_pd:\n",
    "    df_cpu.to_csv(file_path, index=False)\n",
    "with Timer() as t_cudf:\n",
    "    df_gpu.to_csv(file_path, index=False)\n",
    "\"{:10s} pd: {:>8.5f}s cudf: {:>8.5f}s\".format(\"csv\", t_pd.interval, t_cudf.interval)"
   ]
  },
  {
   "cell_type": "markdown",
   "metadata": {},
   "source": [
    "Next, [to_parquet](https://pandas.pydata.org/pandas-docs/stable/reference/api/pandas.DataFrame.to_parquet.html)."
   ]
  },
  {
   "cell_type": "code",
   "execution_count": 12,
   "metadata": {},
   "outputs": [
    {
     "data": {
      "text/plain": [
       "'parquet    pd:  0.05598s cudf:  0.11603s'"
      ]
     },
     "execution_count": 12,
     "metadata": {},
     "output_type": "execute_result"
    }
   ],
   "source": [
    "file_path = \"data/sample_data.parquet\"\n",
    "\n",
    "with Timer() as t_pd:\n",
    "    df_cpu.to_parquet(file_path, index=False)\n",
    "with Timer() as t_cudf:\n",
    "    df_gpu.to_parquet(file_path, index=False)\n",
    "\"{:10s} pd: {:>8.5f}s cudf: {:>8.5f}s\".format(\"parquet\", t_pd.interval, t_cudf.interval)"
   ]
  },
  {
   "cell_type": "markdown",
   "metadata": {},
   "source": [
    "Finally, to zip, using the `compression` parameter of [to_csv](https://pandas.pydata.org/docs/reference/api/pandas.DataFrame.to_csv.html)."
   ]
  },
  {
   "cell_type": "code",
   "execution_count": 13,
   "metadata": {},
   "outputs": [
    {
     "data": {
      "text/plain": [
       "'csv        pd:  0.26495s cudf: ---'"
      ]
     },
     "execution_count": 13,
     "metadata": {},
     "output_type": "execute_result"
    }
   ],
   "source": [
    "file_path = \"data/sample_data.csv.zip\"\n",
    "\n",
    "with Timer() as t_pd:\n",
    "    df_cpu.to_csv(file_path, compression=\"zip\", index=False)\n",
    "# cuDF does not yet support compression\n",
    "\"{:10s} pd: {:>8.5f}s cudf: ---\".format(\"csv\", t_pd.interval)"
   ]
  },
  {
   "cell_type": "markdown",
   "metadata": {},
   "source": [
    "### CSV"
   ]
  },
  {
   "cell_type": "markdown",
   "metadata": {},
   "source": [
    "The next file format we will look at is the [CSV](https://datahub.io/docs/data-packages/csv) file type. CSV stands for Comma Separated Values. Most people are familiar with this format from spreadsheet editing tools like Microsoft [Excel](https://www.microsoft.com/en-us/microsoft-365/excel) and Google [Sheets](https://www.google.com/sheets/about/). CSVs are human readable and are stored in a text file. Let's take a look at the top few rows of our `sample_data.csv` using the [head](https://linux.die.net/man/1/head) command."
   ]
  },
  {
   "cell_type": "code",
   "execution_count": 14,
   "metadata": {},
   "outputs": [
    {
     "name": "stdout",
     "output_type": "stream",
     "text": [
      "t,v,s,f,q\n",
      "2020-04-28 06:06,558.937,0.000,\"0,0,0,0\",v\n",
      "2020-04-28 06:12,558.927,0.000,\"0,0,0,0\",v\n",
      "2020-04-28 06:18,558.921,0.000,\"0,0,0,0\",v\n",
      "2020-04-28 06:24,558.914,0.000,\"0,0,0,0\",v\n",
      "2020-04-28 06:30,558.911,0.000,\"0,0,0,0\",v\n",
      "2020-04-28 06:36,558.911,0.000,\"0,0,0,0\",v\n",
      "2020-04-28 06:42,558.911,0.000,\"0,1,0,0\",v\n",
      "2020-04-28 06:48,558.911,0.000,\"0,1,0,0\",v\n",
      "2020-04-28 06:54,558.911,0.000,\"0,1,0,0\",v\n"
     ]
    }
   ],
   "source": [
    "!head data/sample_data.csv | cut -c -80"
   ]
  },
  {
   "cell_type": "markdown",
   "metadata": {},
   "source": [
    "CSVs may or may not have a `header` row at the top like we do here. This row contains the column names.\n",
    "\n",
    "Let's compare the time to read a CSV file with pandas and cuDF two libraries."
   ]
  },
  {
   "cell_type": "code",
   "execution_count": 15,
   "metadata": {},
   "outputs": [
    {
     "data": {
      "text/plain": [
       "'csv        pd:  0.07787s cudf:  0.00997s'"
      ]
     },
     "execution_count": 15,
     "metadata": {},
     "output_type": "execute_result"
    }
   ],
   "source": [
    "file_path = \"data/sample_data.csv\"\n",
    "\n",
    "with Timer() as t_pd:\n",
    "    df_cpu = pd.read_csv(file_path)\n",
    "with Timer() as t_cudf:\n",
    "    df_gpu = cudf.read_csv(file_path)\n",
    "\"{:10s} pd: {:>8.5f}s cudf: {:>8.5f}s\".format(\"csv\", t_pd.interval, t_cudf.interval)"
   ]
  },
  {
   "cell_type": "markdown",
   "metadata": {},
   "source": [
    "Like the terminal `head` command, our DataFrames have a `head` method so we can see the first few rows. Let's verify that both the CPU and GPU version of our DataFrame look the same."
   ]
  },
  {
   "cell_type": "code",
   "execution_count": 16,
   "metadata": {},
   "outputs": [
    {
     "data": {
      "text/html": [
       "<div>\n",
       "<style scoped>\n",
       "    .dataframe tbody tr th:only-of-type {\n",
       "        vertical-align: middle;\n",
       "    }\n",
       "\n",
       "    .dataframe tbody tr th {\n",
       "        vertical-align: top;\n",
       "    }\n",
       "\n",
       "    .dataframe thead th {\n",
       "        text-align: right;\n",
       "    }\n",
       "</style>\n",
       "<table border=\"1\" class=\"dataframe\">\n",
       "  <thead>\n",
       "    <tr style=\"text-align: right;\">\n",
       "      <th></th>\n",
       "      <th>t</th>\n",
       "      <th>v</th>\n",
       "      <th>s</th>\n",
       "      <th>f</th>\n",
       "      <th>q</th>\n",
       "    </tr>\n",
       "  </thead>\n",
       "  <tbody>\n",
       "    <tr>\n",
       "      <th>0</th>\n",
       "      <td>2020-04-28 06:06</td>\n",
       "      <td>558.937</td>\n",
       "      <td>0.0</td>\n",
       "      <td>0,0,0,0</td>\n",
       "      <td>v</td>\n",
       "    </tr>\n",
       "    <tr>\n",
       "      <th>1</th>\n",
       "      <td>2020-04-28 06:12</td>\n",
       "      <td>558.927</td>\n",
       "      <td>0.0</td>\n",
       "      <td>0,0,0,0</td>\n",
       "      <td>v</td>\n",
       "    </tr>\n",
       "    <tr>\n",
       "      <th>2</th>\n",
       "      <td>2020-04-28 06:18</td>\n",
       "      <td>558.921</td>\n",
       "      <td>0.0</td>\n",
       "      <td>0,0,0,0</td>\n",
       "      <td>v</td>\n",
       "    </tr>\n",
       "    <tr>\n",
       "      <th>3</th>\n",
       "      <td>2020-04-28 06:24</td>\n",
       "      <td>558.914</td>\n",
       "      <td>0.0</td>\n",
       "      <td>0,0,0,0</td>\n",
       "      <td>v</td>\n",
       "    </tr>\n",
       "    <tr>\n",
       "      <th>4</th>\n",
       "      <td>2020-04-28 06:30</td>\n",
       "      <td>558.911</td>\n",
       "      <td>0.0</td>\n",
       "      <td>0,0,0,0</td>\n",
       "      <td>v</td>\n",
       "    </tr>\n",
       "  </tbody>\n",
       "</table>\n",
       "</div>"
      ],
      "text/plain": [
       "                  t        v    s        f  q\n",
       "0  2020-04-28 06:06  558.937  0.0  0,0,0,0  v\n",
       "1  2020-04-28 06:12  558.927  0.0  0,0,0,0  v\n",
       "2  2020-04-28 06:18  558.921  0.0  0,0,0,0  v\n",
       "3  2020-04-28 06:24  558.914  0.0  0,0,0,0  v\n",
       "4  2020-04-28 06:30  558.911  0.0  0,0,0,0  v"
      ]
     },
     "execution_count": 16,
     "metadata": {},
     "output_type": "execute_result"
    }
   ],
   "source": [
    "df_cpu.head()"
   ]
  },
  {
   "cell_type": "code",
   "execution_count": 17,
   "metadata": {},
   "outputs": [
    {
     "data": {
      "text/html": [
       "<div>\n",
       "<style scoped>\n",
       "    .dataframe tbody tr th:only-of-type {\n",
       "        vertical-align: middle;\n",
       "    }\n",
       "\n",
       "    .dataframe tbody tr th {\n",
       "        vertical-align: top;\n",
       "    }\n",
       "\n",
       "    .dataframe thead th {\n",
       "        text-align: right;\n",
       "    }\n",
       "</style>\n",
       "<table border=\"1\" class=\"dataframe\">\n",
       "  <thead>\n",
       "    <tr style=\"text-align: right;\">\n",
       "      <th></th>\n",
       "      <th>t</th>\n",
       "      <th>v</th>\n",
       "      <th>s</th>\n",
       "      <th>f</th>\n",
       "      <th>q</th>\n",
       "    </tr>\n",
       "  </thead>\n",
       "  <tbody>\n",
       "    <tr>\n",
       "      <th>0</th>\n",
       "      <td>2020-04-28 06:06</td>\n",
       "      <td>558.937</td>\n",
       "      <td>0.0</td>\n",
       "      <td>0,0,0,0</td>\n",
       "      <td>v</td>\n",
       "    </tr>\n",
       "    <tr>\n",
       "      <th>1</th>\n",
       "      <td>2020-04-28 06:12</td>\n",
       "      <td>558.927</td>\n",
       "      <td>0.0</td>\n",
       "      <td>0,0,0,0</td>\n",
       "      <td>v</td>\n",
       "    </tr>\n",
       "    <tr>\n",
       "      <th>2</th>\n",
       "      <td>2020-04-28 06:18</td>\n",
       "      <td>558.921</td>\n",
       "      <td>0.0</td>\n",
       "      <td>0,0,0,0</td>\n",
       "      <td>v</td>\n",
       "    </tr>\n",
       "    <tr>\n",
       "      <th>3</th>\n",
       "      <td>2020-04-28 06:24</td>\n",
       "      <td>558.914</td>\n",
       "      <td>0.0</td>\n",
       "      <td>0,0,0,0</td>\n",
       "      <td>v</td>\n",
       "    </tr>\n",
       "    <tr>\n",
       "      <th>4</th>\n",
       "      <td>2020-04-28 06:30</td>\n",
       "      <td>558.911</td>\n",
       "      <td>0.0</td>\n",
       "      <td>0,0,0,0</td>\n",
       "      <td>v</td>\n",
       "    </tr>\n",
       "  </tbody>\n",
       "</table>\n",
       "</div>"
      ],
      "text/plain": [
       "                  t        v    s        f  q\n",
       "0  2020-04-28 06:06  558.937  0.0  0,0,0,0  v\n",
       "1  2020-04-28 06:12  558.927  0.0  0,0,0,0  v\n",
       "2  2020-04-28 06:18  558.921  0.0  0,0,0,0  v\n",
       "3  2020-04-28 06:24  558.914  0.0  0,0,0,0  v\n",
       "4  2020-04-28 06:30  558.911  0.0  0,0,0,0  v"
      ]
     },
     "execution_count": 17,
     "metadata": {},
     "output_type": "execute_result"
    }
   ],
   "source": [
    "df_gpu.head()"
   ]
  },
  {
   "cell_type": "markdown",
   "metadata": {},
   "source": [
    "We can also check the number of rows in the DataFrame using python's `len` function."
   ]
  },
  {
   "cell_type": "code",
   "execution_count": 18,
   "metadata": {},
   "outputs": [
    {
     "data": {
      "text/plain": [
       "87599"
      ]
     },
     "execution_count": 18,
     "metadata": {},
     "output_type": "execute_result"
    }
   ],
   "source": [
    "len(df_cpu)"
   ]
  },
  {
   "cell_type": "code",
   "execution_count": 19,
   "metadata": {},
   "outputs": [
    {
     "data": {
      "text/plain": [
       "87599"
      ]
     },
     "execution_count": 19,
     "metadata": {},
     "output_type": "execute_result"
    }
   ],
   "source": [
    "len(df_gpu)"
   ]
  },
  {
   "cell_type": "markdown",
   "metadata": {},
   "source": [
    "### Parquet"
   ]
  },
  {
   "cell_type": "markdown",
   "metadata": {},
   "source": [
    "The next file format we will look at is Apache's [parquet](https://parquet.apache.org/) format. Whereas CSV files are optimized for rows, `parquet` is optimized for columns. We can look at the raw data file, but it's not human readable..."
   ]
  },
  {
   "cell_type": "code",
   "execution_count": 20,
   "metadata": {},
   "outputs": [
    {
     "name": "stdout",
     "output_type": "stream",
     "text": [
      ",\u0015І\u0003\u0015\u0000\u0015\u0006\u0015\u0006\u0000\u0000��\u001e",
      "L\u0010\u0000\u0000\u00002020-04-28 06:06F\u0014\u0000\u000412J\u0014\u0000\u00008F\u0014\u0000\u000424F\u0014\u0000\u000430J\u0014\u0000Jd\u0000\n",
      "\b9 0B�\n",
      "\u0005\u0014F�\u0000B�\n",
      "\u0005(F�\u0000B�\n",
      "\u0005(F�\u0000B�\n",
      "\u0005(F�\u0000B�\n",
      "\b9 0B�\n",
      "\t\u0014B \u0003B�\n",
      "\u0005(F \u0003\u00005>�\u0004\u0005(\u00003B�\u0003B�\n",
      "\u0005(FX\u0002B�\n"
     ]
    }
   ],
   "source": [
    "!head data/sample_data.parquet | cut -c -80"
   ]
  },
  {
   "cell_type": "markdown",
   "metadata": {},
   "source": [
    "`parquet` files have a header and footer describing the schema of the file. The columns are broken down into chunks. A program that reads a `parquet` file would look at the metadata to figure out where the columns are in the file that is being called by the user. Read more about it [here](https://parquet.apache.org/documentation/latest/)."
   ]
  },
  {
   "cell_type": "markdown",
   "metadata": {},
   "source": [
    "Like before, let's see how long it takes `pandas` to read a `parquet` versus `cuDF`."
   ]
  },
  {
   "cell_type": "code",
   "execution_count": 21,
   "metadata": {},
   "outputs": [
    {
     "data": {
      "text/plain": [
       "'parquet    pd:  0.04959s cudf:  0.03753s'"
      ]
     },
     "execution_count": 21,
     "metadata": {},
     "output_type": "execute_result"
    }
   ],
   "source": [
    "file_path = \"data/sample_data.parquet\"\n",
    "\n",
    "with Timer() as t_pd:\n",
    "    df_cpu = pd.read_parquet(file_path)\n",
    "with Timer() as t_cudf:\n",
    "    df_gpu = cudf.io.parquet.read_parquet(file_path)\n",
    "\"{:10s} pd: {:>8.5f}s cudf: {:>8.5f}s\".format(\"parquet\", t_pd.interval, t_cudf.interval)"
   ]
  },
  {
   "cell_type": "markdown",
   "metadata": {},
   "source": [
    "### Zip\n",
    "\n",
    "Oftentimes, data is compressed to save space. [ZIP](https://experience.dropbox.com/resources/what-is-a-zip-file) works by encoding redundant data into fewer bytes. In many cases, data needs to be uncompressed before it is usable by other applications, but both `pandas` and `cuDF` can read this file type."
   ]
  },
  {
   "cell_type": "code",
   "execution_count": 22,
   "metadata": {},
   "outputs": [
    {
     "data": {
      "text/plain": [
       "'csv(zip)   pd:  0.07050s cudf:  0.01369s'"
      ]
     },
     "execution_count": 22,
     "metadata": {},
     "output_type": "execute_result"
    }
   ],
   "source": [
    "file_path = \"data/sample_data.csv.zip\"\n",
    "\n",
    "with Timer() as t_pd:\n",
    "    df_cpu = pd.read_csv(file_path, compression=\"zip\")\n",
    "with Timer() as t_cudf:\n",
    "    df_gpu = cudf.read_csv(file_path, compression=\"zip\")\n",
    "\"{:10s} pd: {:>8.5f}s cudf: {:>8.5f}s\".format(\n",
    "    \"csv(zip)\", t_pd.interval, t_cudf.interval\n",
    ")"
   ]
  },
  {
   "cell_type": "markdown",
   "metadata": {},
   "source": [
    "## Parallel Reading\n",
    "\n",
    "[Dask](https://dask.org/) is an open-source library designed to natively scale Python code. Dask is a task-based library for parallel scheduling and execution. Although it is certainly possible to use the task-scheduling machinery directly to implement customized parallel workflows, most users only interact with Dask through a *Dask Collection API*.  The most popular \"collection\" APIs include:\n",
    "\n",
    "- [Dask DataFrame](https://docs.dask.org/en/latest/dataframe.html): Dask-based version of the [Pandas](https://pandas.pydata.org/) DataFrame/Series API.  Note that `dask_cudf` is just a wrapper around this collection module (`dask.dataframe`).\n",
    "- [Dask Array](https://docs.dask.org/en/latest/array.html): Dask-based version of the [NumPy](https://numpy.org/) array API\n",
    "- [Dask Bag](https://docs.dask.org/en/latest/bag.html): *Similar to* a Dask-based version of PyToolz or a Pythonic version of PySpark RDD\n",
    "\n",
    "For example, Dask DataFrame provides a convenient API for decomposing large pandas (or cuDF) DataFrame/Series objects into a collection of DataFrame *partitions*.\n",
    "\n",
    "<div style=\"text-align:center\"><img src=\"images/dask-dataframe.svg\" width=\"350px\"></div>\n",
    "\n",
    "It is useful to understand (on a basic level) how Dask works. When an application or library uses a Dask collection API (like Dask DataFrame), they are typically using that API to construct a directed acyclic graph ([DAG](https://mathworld.wolfram.com/AcyclicDigraph.html)) of tasks.  Once a DAG is constructed, the **core** Dask API can be used (either directly or implicitly through the collection API) to schedule and execute the DAG on one or more threads/processes.\n",
    "\n",
    "In other words, Dask provides various APIs to:\n",
    "\n",
    "1. Construct a DAG of \"tasks\"\n",
    "2. Schedule/execute those DAGs\n",
    "3. (Optionally) Spin up dedicated worker and scheduler processes to enable distributed execution\n",
    "\n",
    "<div style=\"text-align:center\"><img src='images/dask_dag_cartoon.png' width=500></div>\n",
    "\n",
    "Let's take a look at all of this in action."
   ]
  },
  {
   "cell_type": "code",
   "execution_count": 23,
   "metadata": {},
   "outputs": [
    {
     "data": {
      "text/plain": [
       "'csv(dask)  CPU:  0.01050s GPU:  0.00938s'"
      ]
     },
     "execution_count": 23,
     "metadata": {},
     "output_type": "execute_result"
    }
   ],
   "source": [
    "file_path = \"data/sample_data.csv\"\n",
    "\n",
    "with Timer() as t_dd_cpu:\n",
    "    ddf_cpu = dd.read_csv(file_path)\n",
    "with Timer() as t_dd_gpu:\n",
    "    ddf_gpu = dask_cudf.read_csv(file_path)\n",
    "\"{:10s} CPU: {:>8.5f}s GPU: {:>8.5f}s\".format(\n",
    "    \"csv(dask)\", t_dd_cpu.interval, t_dd_gpu.interval\n",
    ")"
   ]
  },
  {
   "cell_type": "markdown",
   "metadata": {},
   "source": [
    "So fast!\n",
    "\n",
    "Well, not really. Let's take a look at the DataFrames to see what we mean."
   ]
  },
  {
   "cell_type": "code",
   "execution_count": 24,
   "metadata": {},
   "outputs": [
    {
     "data": {
      "text/html": [
       "<div><strong>Dask DataFrame Structure:</strong></div>\n",
       "<div>\n",
       "<style scoped>\n",
       "    .dataframe tbody tr th:only-of-type {\n",
       "        vertical-align: middle;\n",
       "    }\n",
       "\n",
       "    .dataframe tbody tr th {\n",
       "        vertical-align: top;\n",
       "    }\n",
       "\n",
       "    .dataframe thead th {\n",
       "        text-align: right;\n",
       "    }\n",
       "</style>\n",
       "<table border=\"1\" class=\"dataframe\">\n",
       "  <thead>\n",
       "    <tr style=\"text-align: right;\">\n",
       "      <th></th>\n",
       "      <th>t</th>\n",
       "      <th>v</th>\n",
       "      <th>s</th>\n",
       "      <th>f</th>\n",
       "      <th>q</th>\n",
       "    </tr>\n",
       "    <tr>\n",
       "      <th>npartitions=1</th>\n",
       "      <th></th>\n",
       "      <th></th>\n",
       "      <th></th>\n",
       "      <th></th>\n",
       "      <th></th>\n",
       "    </tr>\n",
       "  </thead>\n",
       "  <tbody>\n",
       "    <tr>\n",
       "      <th></th>\n",
       "      <td>object</td>\n",
       "      <td>float64</td>\n",
       "      <td>float64</td>\n",
       "      <td>object</td>\n",
       "      <td>object</td>\n",
       "    </tr>\n",
       "    <tr>\n",
       "      <th></th>\n",
       "      <td>...</td>\n",
       "      <td>...</td>\n",
       "      <td>...</td>\n",
       "      <td>...</td>\n",
       "      <td>...</td>\n",
       "    </tr>\n",
       "  </tbody>\n",
       "</table>\n",
       "</div>\n",
       "<div>Dask Name: read-csv, 1 tasks</div>"
      ],
      "text/plain": [
       "Dask DataFrame Structure:\n",
       "                    t        v        s       f       q\n",
       "npartitions=1                                          \n",
       "               object  float64  float64  object  object\n",
       "                  ...      ...      ...     ...     ...\n",
       "Dask Name: read-csv, 1 tasks"
      ]
     },
     "execution_count": 24,
     "metadata": {},
     "output_type": "execute_result"
    }
   ],
   "source": [
    "ddf_cpu"
   ]
  },
  {
   "cell_type": "code",
   "execution_count": 25,
   "metadata": {},
   "outputs": [
    {
     "data": {
      "text/html": [
       "<div><strong>Dask DataFrame Structure:</strong></div>\n",
       "<div>\n",
       "<style scoped>\n",
       "    .dataframe tbody tr th:only-of-type {\n",
       "        vertical-align: middle;\n",
       "    }\n",
       "\n",
       "    .dataframe tbody tr th {\n",
       "        vertical-align: top;\n",
       "    }\n",
       "\n",
       "    .dataframe thead th {\n",
       "        text-align: right;\n",
       "    }\n",
       "</style>\n",
       "<table border=\"1\" class=\"dataframe\">\n",
       "  <thead>\n",
       "    <tr style=\"text-align: right;\">\n",
       "      <th></th>\n",
       "      <th>t</th>\n",
       "      <th>v</th>\n",
       "      <th>s</th>\n",
       "      <th>f</th>\n",
       "      <th>q</th>\n",
       "    </tr>\n",
       "    <tr>\n",
       "      <th>npartitions=1</th>\n",
       "      <th></th>\n",
       "      <th></th>\n",
       "      <th></th>\n",
       "      <th></th>\n",
       "      <th></th>\n",
       "    </tr>\n",
       "  </thead>\n",
       "  <tbody>\n",
       "    <tr>\n",
       "      <th></th>\n",
       "      <td>object</td>\n",
       "      <td>float64</td>\n",
       "      <td>float64</td>\n",
       "      <td>object</td>\n",
       "      <td>object</td>\n",
       "    </tr>\n",
       "    <tr>\n",
       "      <th></th>\n",
       "      <td>...</td>\n",
       "      <td>...</td>\n",
       "      <td>...</td>\n",
       "      <td>...</td>\n",
       "      <td>...</td>\n",
       "    </tr>\n",
       "  </tbody>\n",
       "</table>\n",
       "</div>\n",
       "<div>Dask Name: read-csv, 1 tasks</div>"
      ],
      "text/plain": [
       "<dask_cudf.DataFrame | 1 tasks | 1 npartitions>"
      ]
     },
     "execution_count": 25,
     "metadata": {},
     "output_type": "execute_result"
    }
   ],
   "source": [
    "ddf_gpu"
   ]
  },
  {
   "cell_type": "markdown",
   "metadata": {},
   "source": [
    "Neither of the DataFrames have numbers in them, but the structure is set up. This is the result of the [DAG](https://mathworld.wolfram.com/AcyclicDigraph.html). The structure is created to quickly produce a result, but there is no result yet. When we ran the `read_csv` functions, the data was not actually read yet.\n",
    "\n",
    "We can force a result with `compute`, causing the CSV files to be read."
   ]
  },
  {
   "cell_type": "code",
   "execution_count": 26,
   "metadata": {},
   "outputs": [
    {
     "name": "stdout",
     "output_type": "stream",
     "text": [
      "CPU times: user 56 ms, sys: 12 ms, total: 68 ms\n",
      "Wall time: 64.8 ms\n"
     ]
    },
    {
     "data": {
      "text/html": [
       "<div>\n",
       "<style scoped>\n",
       "    .dataframe tbody tr th:only-of-type {\n",
       "        vertical-align: middle;\n",
       "    }\n",
       "\n",
       "    .dataframe tbody tr th {\n",
       "        vertical-align: top;\n",
       "    }\n",
       "\n",
       "    .dataframe thead th {\n",
       "        text-align: right;\n",
       "    }\n",
       "</style>\n",
       "<table border=\"1\" class=\"dataframe\">\n",
       "  <thead>\n",
       "    <tr style=\"text-align: right;\">\n",
       "      <th></th>\n",
       "      <th>t</th>\n",
       "      <th>v</th>\n",
       "      <th>s</th>\n",
       "      <th>f</th>\n",
       "      <th>q</th>\n",
       "    </tr>\n",
       "  </thead>\n",
       "  <tbody>\n",
       "    <tr>\n",
       "      <th>0</th>\n",
       "      <td>2020-04-28 06:06</td>\n",
       "      <td>558.937</td>\n",
       "      <td>0.000</td>\n",
       "      <td>0,0,0,0</td>\n",
       "      <td>v</td>\n",
       "    </tr>\n",
       "    <tr>\n",
       "      <th>1</th>\n",
       "      <td>2020-04-28 06:12</td>\n",
       "      <td>558.927</td>\n",
       "      <td>0.000</td>\n",
       "      <td>0,0,0,0</td>\n",
       "      <td>v</td>\n",
       "    </tr>\n",
       "    <tr>\n",
       "      <th>2</th>\n",
       "      <td>2020-04-28 06:18</td>\n",
       "      <td>558.921</td>\n",
       "      <td>0.000</td>\n",
       "      <td>0,0,0,0</td>\n",
       "      <td>v</td>\n",
       "    </tr>\n",
       "    <tr>\n",
       "      <th>3</th>\n",
       "      <td>2020-04-28 06:24</td>\n",
       "      <td>558.914</td>\n",
       "      <td>0.000</td>\n",
       "      <td>0,0,0,0</td>\n",
       "      <td>v</td>\n",
       "    </tr>\n",
       "    <tr>\n",
       "      <th>4</th>\n",
       "      <td>2020-04-28 06:30</td>\n",
       "      <td>558.911</td>\n",
       "      <td>0.000</td>\n",
       "      <td>0,0,0,0</td>\n",
       "      <td>v</td>\n",
       "    </tr>\n",
       "    <tr>\n",
       "      <th>...</th>\n",
       "      <td>...</td>\n",
       "      <td>...</td>\n",
       "      <td>...</td>\n",
       "      <td>...</td>\n",
       "      <td>...</td>\n",
       "    </tr>\n",
       "    <tr>\n",
       "      <th>87594</th>\n",
       "      <td>2021-04-28 05:30</td>\n",
       "      <td>559.436</td>\n",
       "      <td>0.000</td>\n",
       "      <td>0,0,0,0</td>\n",
       "      <td>p</td>\n",
       "    </tr>\n",
       "    <tr>\n",
       "      <th>87595</th>\n",
       "      <td>2021-04-28 05:36</td>\n",
       "      <td>559.436</td>\n",
       "      <td>0.000</td>\n",
       "      <td>0,0,0,0</td>\n",
       "      <td>p</td>\n",
       "    </tr>\n",
       "    <tr>\n",
       "      <th>87596</th>\n",
       "      <td>2021-04-28 05:42</td>\n",
       "      <td>559.442</td>\n",
       "      <td>0.000</td>\n",
       "      <td>1,0,0,0</td>\n",
       "      <td>p</td>\n",
       "    </tr>\n",
       "    <tr>\n",
       "      <th>87597</th>\n",
       "      <td>2021-04-28 05:48</td>\n",
       "      <td>559.383</td>\n",
       "      <td>0.007</td>\n",
       "      <td>0,0,0,0</td>\n",
       "      <td>p</td>\n",
       "    </tr>\n",
       "    <tr>\n",
       "      <th>87598</th>\n",
       "      <td>2021-04-28 05:54</td>\n",
       "      <td>559.396</td>\n",
       "      <td>0.010</td>\n",
       "      <td>0,0,0,0</td>\n",
       "      <td>p</td>\n",
       "    </tr>\n",
       "  </tbody>\n",
       "</table>\n",
       "<p>87599 rows × 5 columns</p>\n",
       "</div>"
      ],
      "text/plain": [
       "                      t        v      s        f  q\n",
       "0      2020-04-28 06:06  558.937  0.000  0,0,0,0  v\n",
       "1      2020-04-28 06:12  558.927  0.000  0,0,0,0  v\n",
       "2      2020-04-28 06:18  558.921  0.000  0,0,0,0  v\n",
       "3      2020-04-28 06:24  558.914  0.000  0,0,0,0  v\n",
       "4      2020-04-28 06:30  558.911  0.000  0,0,0,0  v\n",
       "...                 ...      ...    ...      ... ..\n",
       "87594  2021-04-28 05:30  559.436  0.000  0,0,0,0  p\n",
       "87595  2021-04-28 05:36  559.436  0.000  0,0,0,0  p\n",
       "87596  2021-04-28 05:42  559.442  0.000  1,0,0,0  p\n",
       "87597  2021-04-28 05:48  559.383  0.007  0,0,0,0  p\n",
       "87598  2021-04-28 05:54  559.396  0.010  0,0,0,0  p\n",
       "\n",
       "[87599 rows x 5 columns]"
      ]
     },
     "execution_count": 26,
     "metadata": {},
     "output_type": "execute_result"
    }
   ],
   "source": [
    "%%time\n",
    "ddf_cpu.compute()"
   ]
  },
  {
   "cell_type": "code",
   "execution_count": 27,
   "metadata": {},
   "outputs": [
    {
     "name": "stdout",
     "output_type": "stream",
     "text": [
      "CPU times: user 12 ms, sys: 0 ns, total: 12 ms\n",
      "Wall time: 9.16 ms\n"
     ]
    },
    {
     "data": {
      "text/html": [
       "<div>\n",
       "<style scoped>\n",
       "    .dataframe tbody tr th:only-of-type {\n",
       "        vertical-align: middle;\n",
       "    }\n",
       "\n",
       "    .dataframe tbody tr th {\n",
       "        vertical-align: top;\n",
       "    }\n",
       "\n",
       "    .dataframe thead th {\n",
       "        text-align: right;\n",
       "    }\n",
       "</style>\n",
       "<table border=\"1\" class=\"dataframe\">\n",
       "  <thead>\n",
       "    <tr style=\"text-align: right;\">\n",
       "      <th></th>\n",
       "      <th>t</th>\n",
       "      <th>v</th>\n",
       "      <th>s</th>\n",
       "      <th>f</th>\n",
       "      <th>q</th>\n",
       "    </tr>\n",
       "  </thead>\n",
       "  <tbody>\n",
       "    <tr>\n",
       "      <th>0</th>\n",
       "      <td>2020-04-28 06:06</td>\n",
       "      <td>558.937</td>\n",
       "      <td>0.000</td>\n",
       "      <td>0,0,0,0</td>\n",
       "      <td>v</td>\n",
       "    </tr>\n",
       "    <tr>\n",
       "      <th>1</th>\n",
       "      <td>2020-04-28 06:12</td>\n",
       "      <td>558.927</td>\n",
       "      <td>0.000</td>\n",
       "      <td>0,0,0,0</td>\n",
       "      <td>v</td>\n",
       "    </tr>\n",
       "    <tr>\n",
       "      <th>2</th>\n",
       "      <td>2020-04-28 06:18</td>\n",
       "      <td>558.921</td>\n",
       "      <td>0.000</td>\n",
       "      <td>0,0,0,0</td>\n",
       "      <td>v</td>\n",
       "    </tr>\n",
       "    <tr>\n",
       "      <th>3</th>\n",
       "      <td>2020-04-28 06:24</td>\n",
       "      <td>558.914</td>\n",
       "      <td>0.000</td>\n",
       "      <td>0,0,0,0</td>\n",
       "      <td>v</td>\n",
       "    </tr>\n",
       "    <tr>\n",
       "      <th>4</th>\n",
       "      <td>2020-04-28 06:30</td>\n",
       "      <td>558.911</td>\n",
       "      <td>0.000</td>\n",
       "      <td>0,0,0,0</td>\n",
       "      <td>v</td>\n",
       "    </tr>\n",
       "    <tr>\n",
       "      <th>...</th>\n",
       "      <td>...</td>\n",
       "      <td>...</td>\n",
       "      <td>...</td>\n",
       "      <td>...</td>\n",
       "      <td>...</td>\n",
       "    </tr>\n",
       "    <tr>\n",
       "      <th>87594</th>\n",
       "      <td>2021-04-28 05:30</td>\n",
       "      <td>559.436</td>\n",
       "      <td>0.000</td>\n",
       "      <td>0,0,0,0</td>\n",
       "      <td>p</td>\n",
       "    </tr>\n",
       "    <tr>\n",
       "      <th>87595</th>\n",
       "      <td>2021-04-28 05:36</td>\n",
       "      <td>559.436</td>\n",
       "      <td>0.000</td>\n",
       "      <td>0,0,0,0</td>\n",
       "      <td>p</td>\n",
       "    </tr>\n",
       "    <tr>\n",
       "      <th>87596</th>\n",
       "      <td>2021-04-28 05:42</td>\n",
       "      <td>559.442</td>\n",
       "      <td>0.000</td>\n",
       "      <td>1,0,0,0</td>\n",
       "      <td>p</td>\n",
       "    </tr>\n",
       "    <tr>\n",
       "      <th>87597</th>\n",
       "      <td>2021-04-28 05:48</td>\n",
       "      <td>559.383</td>\n",
       "      <td>0.007</td>\n",
       "      <td>0,0,0,0</td>\n",
       "      <td>p</td>\n",
       "    </tr>\n",
       "    <tr>\n",
       "      <th>87598</th>\n",
       "      <td>2021-04-28 05:54</td>\n",
       "      <td>559.396</td>\n",
       "      <td>0.010</td>\n",
       "      <td>0,0,0,0</td>\n",
       "      <td>p</td>\n",
       "    </tr>\n",
       "  </tbody>\n",
       "</table>\n",
       "<p>87599 rows × 5 columns</p>\n",
       "</div>"
      ],
      "text/plain": [
       "                      t        v      s        f  q\n",
       "0      2020-04-28 06:06  558.937  0.000  0,0,0,0  v\n",
       "1      2020-04-28 06:12  558.927  0.000  0,0,0,0  v\n",
       "2      2020-04-28 06:18  558.921  0.000  0,0,0,0  v\n",
       "3      2020-04-28 06:24  558.914  0.000  0,0,0,0  v\n",
       "4      2020-04-28 06:30  558.911  0.000  0,0,0,0  v\n",
       "...                 ...      ...    ...      ... ..\n",
       "87594  2021-04-28 05:30  559.436  0.000  0,0,0,0  p\n",
       "87595  2021-04-28 05:36  559.436  0.000  0,0,0,0  p\n",
       "87596  2021-04-28 05:42  559.442  0.000  1,0,0,0  p\n",
       "87597  2021-04-28 05:48  559.383  0.007  0,0,0,0  p\n",
       "87598  2021-04-28 05:54  559.396  0.010  0,0,0,0  p\n",
       "\n",
       "[87599 rows x 5 columns]"
      ]
     },
     "execution_count": 27,
     "metadata": {},
     "output_type": "execute_result"
    }
   ],
   "source": [
    "%%time\n",
    "ddf_gpu.compute()"
   ]
  },
  {
   "cell_type": "markdown",
   "metadata": {},
   "source": [
    "We may notice that the time it takes to use `Dask`, regardless of CPU or GPU, is not as fast as regular `pandas` and `cuDF` in this case. That is because there some overhead setting up the DAG for parallelization. Because of this, reading data with Dask works best with a large amount of data split across multiple files.\n",
    "\n",
    "## Exercise\n",
    "\n",
    "Speaking of comparisons, what is better? `CSV` or `parquet`? `pandas` or `cuDF`? This depends on the data content and what we intend to use it for. In the `data` directory, `numbers.csv` is a large, randomly generated dataset with `7500` rows and `7500` columns. It has been duplicated and saved in `data/numbers.parquet`.\n",
    "\n",
    "Being a large file, we do not recommend opening it in a new tab as it may crash the notebook connection. Instead, we can sample the file programmatically."
   ]
  },
  {
   "cell_type": "code",
   "execution_count": 28,
   "metadata": {},
   "outputs": [
    {
     "name": "stdout",
     "output_type": "stream",
     "text": [
      ",0,1,2,3,4,5,6,7,8,9,10,11,12,13,14,15,16,17,18,19,20,21,22,23,24,25,26,27,28,29\n",
      "0,0.9688122299539527,-1.9057409366225484,-0.5552106626195441,0.10957962030282403\n",
      "1,2.3359458116268983,0.09562432378412504,0.47552757641913707,-0.1661054487161083\n",
      "2,-0.09466958432022161,-1.259493954632562,2.12786051166871,0.8233342585224563,-0\n",
      "3,0.13067335954764697,0.9963187046923956,-1.0503495764572368,0.03327832259014544\n",
      "4,-1.483028449313044,0.6875889933866639,1.5303177317859817,1.211056732145375,-0.\n",
      "5,1.3000573026397504,1.2345335286147918,-0.5603539849064821,0.9242411704697056,-\n",
      "6,-0.8030736831551547,-0.5129375571241115,0.9468218590193478,1.0107628920250133,\n",
      "7,-0.9328684817957795,1.2011893344498081,-0.310068624700141,0.5911974890670361,-\n",
      "8,-0.10251583527810282,0.127221434700931,-0.13388987540502392,-0.395017824053683\n"
     ]
    }
   ],
   "source": [
    "!head data/numbers.csv | cut -c -80"
   ]
  },
  {
   "cell_type": "markdown",
   "metadata": {},
   "source": [
    "**TODO**: Play around with the `skip_rows` and `col_indexes` below to see how it impacts the execution time of both `pandas` and `cuDF`. Check out the documentation for [read_csv](https://pandas.pydata.org/docs/reference/api/pandas.read_csv.html) and [read_parquet](https://pandas.pydata.org/docs/reference/api/pandas.read_parquet.html). For `parquet`, we are using the [pyarrow](https://arrow.apache.org/docs/python/generated/pyarrow.parquet.ParquetDataset.html) engine.\n",
    "\n",
    "**BONUS**: See if you can find a situation where pandas is faster than cuDF. What set of conditions made it possible? What happens when no rows are skipped or most rows are skipped? What happends when no columns are used or most columns are used?\n",
    "\n",
    "**Note**:\n",
    "* `skip_rows` works a little differently for [cuDF](https://docs.rapids.ai/api/cudf/stable/api.html#cudf.io.csv.read_csv)\n",
    "* We've added a `row_num` column so the `parquet` rows can be filtered while read using [filters](https://arrow.apache.org/docs/python/generated/pyarrow.parquet.read_table.html)."
   ]
  },
  {
   "cell_type": "code",
   "execution_count": 29,
   "metadata": {},
   "outputs": [
    {
     "name": "stdout",
     "output_type": "stream",
     "text": [
      "csv        pd:  5.15952s cudf:  0.55392s\n",
      "parquet    pd:  0.40531s cudf:  0.35102s\n"
     ]
    }
   ],
   "source": [
    "# Change these integers\n",
    "skip_rows = 1000  # Rows to skip, up to 7500\n",
    "col_indexes = range(0, 1000)  # Columns to include, up to 7500\n",
    "\n",
    "filter_rows = [(\"row_num\", \"<=\", skip_rows)]\n",
    "use_cols = [\"{0}\".format(col_idx) for col_idx in col_indexes]\n",
    "\n",
    "csv_path = \"data/numbers.csv\"\n",
    "parq_path = \"data/numbers.parquet\"\n",
    "\n",
    "# CSV\n",
    "with Timer() as t_pd:\n",
    "    pd.read_csv(csv_path, usecols=use_cols, skiprows=range(1, skip_rows + 1))\n",
    "with Timer() as t_cudf:\n",
    "    cudf.read_csv(csv_path, usecols=use_cols, header=0, skiprows=skip_rows)\n",
    "print(\n",
    "    \"{:10s} pd: {:>8.5f}s cudf: {:>8.5f}s\".format(\"csv\", t_pd.interval, t_cudf.interval)\n",
    ")\n",
    "\n",
    "# Parquet\n",
    "with Timer() as t_pd:\n",
    "    pd.read_parquet(parq_path, columns=use_cols, filters=filter_rows)\n",
    "with Timer() as t_cudf:\n",
    "    cudf.io.parquet.read_parquet(parq_path, columns=use_cols, filters=filter_rows)\n",
    "\n",
    "print(\n",
    "    \"{:10s} pd: {:>8.5f}s cudf: {:>8.5f}s\".format(\n",
    "        \"parquet\", t_pd.interval, t_cudf.interval\n",
    "    )\n",
    ")"
   ]
  },
  {
   "cell_type": "markdown",
   "metadata": {},
   "source": [
    "One last thought before moving on, how much space did each of these file types take? We can use the `ls` terminal command to list all the files in the `data` directory. The `s` flag lists the size and the `h` flag makes that size \"human readable\"."
   ]
  },
  {
   "cell_type": "code",
   "execution_count": null,
   "metadata": {},
   "outputs": [],
   "source": [
    "!ls data -sh"
   ]
  },
  {
   "cell_type": "markdown",
   "metadata": {},
   "source": [
    "Do the sizes match what you would expect? How well do they reflect the speed it takes to read these files?\n",
    "Have answers to all of these questions? After this set of notebooks, return to the task launcher to take a short quiz. But for now, proceed to the [next notebook](2_Dask_and_MapReduce.ipynb) to learn more about Dask and MapReduce."
   ]
  },
  {
   "cell_type": "code",
   "execution_count": null,
   "metadata": {},
   "outputs": [],
   "source": [
    "import IPython\n",
    "app = IPython.Application.instance()\n",
    "app.kernel.do_shutdown(True)"
   ]
  },
  {
   "cell_type": "markdown",
   "metadata": {},
   "source": [
    "<a href=\"https://www.nvidia.com/dli\"> <img src=\"images/DLI_Header.png\" alt=\"Header\" style=\"width: 400px;\"/> </a>"
   ]
  }
 ],
 "metadata": {
  "kernelspec": {
   "display_name": "Python 3",
   "language": "python",
   "name": "python3"
  },
  "language_info": {
   "codemirror_mode": {
    "name": "ipython",
    "version": 3
   },
   "file_extension": ".py",
   "mimetype": "text/x-python",
   "name": "python",
   "nbconvert_exporter": "python",
   "pygments_lexer": "ipython3",
   "version": "3.7.10"
  }
 },
 "nbformat": 4,
 "nbformat_minor": 4
}
