{
 "cells": [
  {
   "cell_type": "markdown",
   "id": "f4f2a694",
   "metadata": {},
   "source": [
    "<a href=\"https://www.nvidia.com/dli\"> <img src=\"images/DLI_Header.png\" alt=\"Header\" style=\"width: 400px;\"/> </a>"
   ]
  },
  {
   "cell_type": "markdown",
   "id": "ec143d80",
   "metadata": {},
   "source": [
    "# Dashboards for Big Data"
   ]
  },
  {
   "cell_type": "markdown",
   "id": "4355218c",
   "metadata": {},
   "source": [
    "Now that we've scaled our data to read across all of our .csvs for a single day, let's scale it even further by allowing users to interact with our map and select which day they wish to view."
   ]
  },
  {
   "cell_type": "markdown",
   "id": "3bd13d30",
   "metadata": {},
   "source": [
    "## Objects\n",
    "\n",
    "* Learn how to arrange elements on a Ploty Dash dashboard\n",
    "* Learn how to make a dashboard interactive"
   ]
  },
  {
   "cell_type": "markdown",
   "id": "eb673ea4",
   "metadata": {},
   "source": [
    "## Planning Ahead\n",
    "\n",
    "There are many different ways to build a dashboard. It can be easy to get lost sometimes, so before we write any code, let's sketch out the features and layout that we'd like to see. In the end, our dashboard will look something like this, but with your style as defined in the previous lab."
   ]
  },
  {
   "cell_type": "markdown",
   "id": "90a4a8f2",
   "metadata": {},
   "source": [
    "<center><img src=images/Sample_Map.png width=400px /></center>"
   ]
  },
  {
   "cell_type": "markdown",
   "id": "bdcc096c",
   "metadata": {},
   "source": [
    "[Plotly Dash](https://plotly.com/dash/) is a framework that extends Plotly so we can turn our figures into a web service that serves a dashboard. A little bit of [HTML](https://www.w3schools.com/html/) and [CSS](https://www.w3schools.com/css/) knowledge will be useful here, but for the most part, this dashboard is built using Python.\n",
    "\n",
    "Here's how the web service will work:\n",
    "* When a user visits our site, they can select a date to view precipitation for\n",
    "* Plotly has a mode to do the calculation on the client (user's computer), but not everyone has a supercomputer to breeze through data calculation\n",
    "* The selected date will be sent to the server (our computer), so our GPU can handle filtering the data\n",
    "* Our GPU filters the data for the date, sends it back to our host (CPU + RAM), so Plotly can generate a new graph and send it to the client.\n",
    "\n",
    "Let's get the base of our server setup. We will be using a version of Dash built for Jupyter notebooks called [Jupyter Dash](https://github.com/plotly/jupyter-dash). The below cell will define our server."
   ]
  },
  {
   "cell_type": "code",
   "execution_count": 1,
   "id": "e59fc764",
   "metadata": {},
   "outputs": [],
   "source": [
    "from jupyter_dash import JupyterDash\n",
    "\n",
    "app = JupyterDash(__name__)\n",
    "server = app.server"
   ]
  },
  {
   "cell_type": "markdown",
   "id": "3682e206",
   "metadata": {},
   "source": [
    "## Preparing the Data\n",
    "\n",
    "Next, we'll need to decide how much data we want to compute in advance and how much we'll calculate on the fly when our users query. There is often a trade-off between how much space we have available and how quickly a dashboard can respond.\n",
    "\n",
    "First, let's load our data."
   ]
  },
  {
   "cell_type": "code",
   "execution_count": 2,
   "id": "c725fb51",
   "metadata": {},
   "outputs": [],
   "source": [
    "import dask_cudf\n",
    "import numpy as np\n",
    "\n",
    "df = dask_cudf.read_csv(\n",
    "    \"data/*.csv\",\n",
    "    usecols=[\"STATION\", \"LATITUDE\", \"LONGITUDE\", \"DlySum\", \"DATE\"],\n",
    "    dtype={\n",
    "        \"STATION\": \"object\",\n",
    "        \"LATITUDE\": np.float32,\n",
    "        \"LONGITUDE\": np.float32,\n",
    "        \"DlySum\": np.uint32,\n",
    "        \"DATE\": str,\n",
    "    },\n",
    "    na_values=[\"-9999\"],\n",
    ")"
   ]
  },
  {
   "cell_type": "markdown",
   "id": "35a52d0f",
   "metadata": {},
   "source": [
    "**TODO**. Let's also convert from hundredths of an inch to inches in order to make the data more human-readable. Feel free to add any other columns you think might be useful, such as a column for hover text. We've added the `%%time` cell magic to keep track of how long these operations take."
   ]
  },
  {
   "cell_type": "code",
   "execution_count": null,
   "id": "9bea98f7",
   "metadata": {},
   "outputs": [],
   "source": [
    "%%time\n",
    "# Define columns\n",
    "df[\"Inches\"] = FIXME\n",
    "df[\"TEXT\"] = df[\"STATION\"]"
   ]
  },
  {
   "cell_type": "code",
   "execution_count": 3,
   "id": "0f0874e7",
   "metadata": {},
   "outputs": [
    {
     "name": "stdout",
     "output_type": "stream",
     "text": [
      "CPU times: user 424 ms, sys: 12 ms, total: 436 ms\n",
      "Wall time: 437 ms\n"
     ]
    }
   ],
   "source": [
    "%%time\n",
    "df[\"Inches\"] = df[\"DlySum\"] / 100\n",
    "df[\"TEXT\"] = df[\"STATION\"] + \": \" + df[\"Inches\"].astype(str) + \" inches\""
   ]
  },
  {
   "cell_type": "markdown",
   "id": "348005f2",
   "metadata": {},
   "source": [
    "Certain operations are going to be faster in Dask's parallel computing environment, but some will be faster in a single thread environment. Knowing which is which takes a little theory and a whole lot of practice (Check out Dask's [Best Practices](https://docs.dask.org/en/latest/dataframe-best-practices.html) page).\n",
    "\n",
    "As for the theory, the goal is to keep communication between parallel threads to a minimum. For instance, creating the `Inches` and `TEXT` columns above are row-independent operations, so Dask can be used to its full advantage.\n",
    "\n",
    "On the other hand, computing the minimum and maximum date below requires the partitions to pull their results together in order to determine which partition has the correct minimum and maximum.\n",
    "\n",
    "[set_index](https://docs.rapids.ai/api/cudf/stable/api.html#cudf.core.dataframe.DataFrame.set_index) is also an expensive operation in the Dask environment as it sorts the values to set the index. It may take some time to calculate now, but it's going to dramatically improve the speed at which users can filter on a date for the dashboard. Time is precious, but if you have extra time, we encourage removing the index and seeing how much of a difference it makes when filtering on the date.\n",
    "\n",
    "In order to pull these operations out of the parallel programming environment, we'll go ahead and pull the DataFrame into vanilla cuDF using [compute](https://docs.rapids.ai/api/cudf/stable/dask-cudf.html) method."
   ]
  },
  {
   "cell_type": "code",
   "execution_count": 4,
   "id": "8505da43",
   "metadata": {},
   "outputs": [
    {
     "name": "stdout",
     "output_type": "stream",
     "text": [
      "CPU times: user 28.6 s, sys: 5.46 s, total: 34.1 s\n",
      "Wall time: 34.1 s\n"
     ]
    }
   ],
   "source": [
    "%%time\n",
    "df = df.compute()"
   ]
  },
  {
   "cell_type": "markdown",
   "id": "1c63baa0",
   "metadata": {},
   "source": [
    "<sub>Even though we're using `DATE` as a string, this still returns a correct result since the date is in a YYYY-MM-DD format.</sub>"
   ]
  },
  {
   "cell_type": "code",
   "execution_count": 5,
   "id": "90746458",
   "metadata": {},
   "outputs": [
    {
     "name": "stdout",
     "output_type": "stream",
     "text": [
      "CPU times: user 4 ms, sys: 12 ms, total: 16 ms\n",
      "Wall time: 14.7 ms\n"
     ]
    }
   ],
   "source": [
    "%%time\n",
    "# Faster to do before compute\n",
    "date_min = df[\"DATE\"].min()\n",
    "date_max = df[\"DATE\"].max()"
   ]
  },
  {
   "cell_type": "code",
   "execution_count": 6,
   "id": "b828de3a",
   "metadata": {},
   "outputs": [
    {
     "name": "stdout",
     "output_type": "stream",
     "text": [
      "CPU times: user 20 ms, sys: 36 ms, total: 56 ms\n",
      "Wall time: 52.4 ms\n"
     ]
    }
   ],
   "source": [
    "%%time\n",
    "df = df.set_index('DATE')"
   ]
  },
  {
   "cell_type": "markdown",
   "id": "7dd986e3",
   "metadata": {},
   "source": [
    "## Inputs\n",
    "\n",
    "Let's focus on the layout next. Dash has a number of [Inputs](https://dash.plotly.com/dash-core-components/input) that we can use as inputs to a Python function. Since our users would like to filter by the date, let's use the [DatePickerSingle](https://dash.plotly.com/dash-core-components/datepickersingle) input. (There's a [DatePickerRange](https://dash.plotly.com/dash-core-components/datepickerrange) input to allow filtering on multiple dates, but for our geo map, that would cause points to overlap each other.)\n",
    "\n",
    "Another question we might ask ourselves is whether or not we want to include points with zero precipitation. On the one hand, it's interesting seeing the locations of the stations even without precipitation. On the other hand, it can add a bit of confusion if we're only interested in areas with precipitation. We'll let the user decide what's best for them with a switch. [Dash DAQ](https://dash.plotly.com/dash-daq) extends the Dash library by providing even more input widgets. In our case, we'll be using a [Boolean Switch](https://dash.plotly.com/dash-daq/booleanswitch).\n",
    "\n",
    "In order to organize these inputs and make them look snazzy, Dash has replicated a number of [HTML](https://dash.plotly.com/dash-html-components) tags. One of the most common ones is [div](https://dash.plotly.com/dash-html-components/div) which acts as an invisible box around the content inside it in order to group it together. The following layout in the code cell below will result in something like this:\n",
    "\n",
    "<center><img src=images/Divs.png width=200px /></center>"
   ]
  },
  {
   "cell_type": "code",
   "execution_count": 7,
   "id": "8b85566d",
   "metadata": {},
   "outputs": [],
   "source": [
    "import dash_daq as daq\n",
    "import dash_html_components as html\n",
    "import dash_core_components as dcc\n",
    "\n",
    "initial_date = \"2021-01-01\"\n",
    "\n",
    "# Uncomment if app needs to be redefined\n",
    "#app = JupyterDash(__name__)\n",
    "#server = app.server\n",
    "\n",
    "app.layout = html.Div([\n",
    "    html.Div([\n",
    "        dcc.DatePickerSingle(\n",
    "            id='my-date-picker-single',\n",
    "            min_date_allowed=date_min,\n",
    "            max_date_allowed=date_max,\n",
    "            initial_visible_month=initial_date,\n",
    "            date=initial_date\n",
    "        ),\n",
    "        daq.BooleanSwitch(\n",
    "            id='show-zeros',\n",
    "            on=True,\n",
    "            label=\"Show Zeros\",\n",
    "            style={'display': 'inline-block'}\n",
    "        )\n",
    "    ]),\n",
    "    dcc.Graph(id='precipitation-map')\n",
    "])"
   ]
  },
  {
   "cell_type": "markdown",
   "id": "8280d96b",
   "metadata": {},
   "source": [
    "## Outputs\n",
    "\n",
    "Finally, where the magic comes in. A few of the elements above have an `id`. We are going to use these `id`s to map the user's inputs to a Python function that will generate our graph. These `id`s can also be outputs, like what we'll be doing with the [dcc.Graph](https://dash.plotly.com/dash-core-components/graph) element.\n",
    "\n",
    "Below, we've created an `update_graph` function as a [Plotly Callback](https://dash.plotly.com/basic-callbacks). It expects the following:\n",
    "\n",
    "* A single `dash.dependencies.Output`. We've linked our [dcc.Graph](https://dash.plotly.com/dash-core-components/graph) by adding it's id (`'precipitation-map'`) and the property we want to output to (`figure`).\n",
    "* A list of `dash.dependencies.Input`s. Again, we've linked the input by their ids (`my-date-picker-single` and `show-zeros`).\n",
    " * We can use almost any of the element's properties as inputs. We can view them with Python's `help` function or at the end of their [documentation page](https://dash.plotly.com/dash-core-components/datepickersingle)."
   ]
  },
  {
   "cell_type": "code",
   "execution_count": 8,
   "id": "f9a2cad2",
   "metadata": {},
   "outputs": [
    {
     "name": "stdout",
     "output_type": "stream",
     "text": [
      "Help on class DatePickerSingle in module dash_core_components.DatePickerSingle:\n",
      "\n",
      "class DatePickerSingle(dash.development.base_component.Component)\n",
      " |  DatePickerSingle(id=undefined, date=undefined, min_date_allowed=undefined, max_date_allowed=undefined, initial_visible_month=undefined, day_size=undefined, calendar_orientation=undefined, is_RTL=undefined, placeholder=undefined, reopen_calendar_on_clear=undefined, number_of_months_shown=undefined, with_portal=undefined, with_full_screen_portal=undefined, first_day_of_week=undefined, stay_open_on_select=undefined, show_outside_days=undefined, month_format=undefined, display_format=undefined, disabled=undefined, clearable=undefined, style=undefined, className=undefined, loading_state=undefined, persistence=undefined, persisted_props=undefined, persistence_type=undefined, **kwargs)\n",
      " |  \n",
      " |  A DatePickerSingle component.\n",
      " |  DatePickerSingle is a tailor made component designed for selecting\n",
      " |  a single day off of a calendar.\n",
      " |  \n",
      " |  The DatePicker integrates well with the Python datetime module with the\n",
      " |  startDate and endDate being returned in a string format suitable for\n",
      " |  creating datetime objects.\n",
      " |  \n",
      " |  This component is based off of Airbnb's react-dates react component\n",
      " |  which can be found here: https://github.com/airbnb/react-dates\n",
      " |  \n",
      " |  Keyword arguments:\n",
      " |  \n",
      " |  - id (string; optional):\n",
      " |      The ID of this component, used to identify dash components in\n",
      " |      callbacks. The ID needs to be unique across all of the components\n",
      " |      in an app.\n",
      " |  \n",
      " |  - calendar_orientation (a value equal to: 'vertical', 'horizontal'; default 'horizontal'):\n",
      " |      Orientation of calendar, either vertical or horizontal. Valid\n",
      " |      options are 'vertical' or 'horizontal'.\n",
      " |  \n",
      " |  - className (string; optional):\n",
      " |      Appends a CSS class to the wrapper div component.\n",
      " |  \n",
      " |  - clearable (boolean; default False):\n",
      " |      Whether or not the dropdown is \"clearable\", that is, whether or\n",
      " |      not a small \"x\" appears on the right of the dropdown that\n",
      " |      removes the selected value.\n",
      " |  \n",
      " |  - date (string; optional):\n",
      " |      Specifies the starting date for the component, best practice is to\n",
      " |      pass value via datetime object.\n",
      " |  \n",
      " |  - day_size (number; default 39):\n",
      " |      Size of rendered calendar days, higher number means bigger day\n",
      " |      size and larger calendar overall.\n",
      " |  \n",
      " |  - disabled (boolean; default False):\n",
      " |      If True, no dates can be selected.\n",
      " |  \n",
      " |  - display_format (string; optional):\n",
      " |      Specifies the format that the selected dates will be displayed\n",
      " |      valid formats are variations of \"MM YY DD\". For example: \"MM YY\n",
      " |      DD\" renders as '05 10 97' for May 10th 1997 \"MMMM, YY\" renders\n",
      " |      as 'May, 1997' for May 10th 1997 \"M, D, YYYY\" renders as '07,\n",
      " |      10, 1997' for September 10th 1997 \"MMMM\" renders as 'May' for\n",
      " |      May 10 1997.\n",
      " |  \n",
      " |  - first_day_of_week (a value equal to: 0, 1, 2, 3, 4, 5, 6; default 0):\n",
      " |      Specifies what day is the first day of the week, values must be\n",
      " |      from [0, ..., 6] with 0 denoting Sunday and 6 denoting Saturday.\n",
      " |  \n",
      " |  - initial_visible_month (string; optional):\n",
      " |      Specifies the month that is initially presented when the user\n",
      " |      opens the calendar. Accepts datetime.datetime objects or strings\n",
      " |      in the format 'YYYY-MM-DD'.\n",
      " |  \n",
      " |  - is_RTL (boolean; default False):\n",
      " |      Determines whether the calendar and days operate from left to\n",
      " |      right or from right to left.\n",
      " |  \n",
      " |  - loading_state (dict; optional):\n",
      " |      Object that holds the loading state object coming from\n",
      " |      dash-renderer.\n",
      " |  \n",
      " |      `loading_state` is a dict with keys:\n",
      " |  \n",
      " |      - component_name (string; optional):\n",
      " |          Holds the name of the component that is loading.\n",
      " |  \n",
      " |      - is_loading (boolean; optional):\n",
      " |          Determines if the component is loading or not.\n",
      " |  \n",
      " |      - prop_name (string; optional):\n",
      " |          Holds which property is loading.\n",
      " |  \n",
      " |  - max_date_allowed (string; optional):\n",
      " |      Specifies the highest selectable date for the component. Accepts\n",
      " |      datetime.datetime objects or strings in the format 'YYYY-MM-DD'.\n",
      " |  \n",
      " |  - min_date_allowed (string; optional):\n",
      " |      Specifies the lowest selectable date for the component. Accepts\n",
      " |      datetime.datetime objects or strings in the format 'YYYY-MM-DD'.\n",
      " |  \n",
      " |  - month_format (string; optional):\n",
      " |      Specifies the format that the month will be displayed in the\n",
      " |      calendar, valid formats are variations of \"MM YY\". For example:\n",
      " |      \"MM YY\" renders as '05 97' for May 1997 \"MMMM, YYYY\" renders\n",
      " |      as 'May, 1997' for May 1997 \"MMM, YY\" renders as 'Sep, 97' for\n",
      " |      September 1997.\n",
      " |  \n",
      " |  - number_of_months_shown (number; default 1):\n",
      " |      Number of calendar months that are shown when calendar is opened.\n",
      " |  \n",
      " |  - persisted_props (list of a value equal to: 'date's; default ['date']):\n",
      " |      Properties whose user interactions will persist after refreshing\n",
      " |      the component or the page. Since only `date` is allowed this prop\n",
      " |      can normally be ignored.\n",
      " |  \n",
      " |  - persistence (boolean | string | number; optional):\n",
      " |      Used to allow user interactions in this component to be persisted\n",
      " |      when the component - or the page - is refreshed. If `persisted` is\n",
      " |      truthy and hasn't changed from its previous value, a `date` that\n",
      " |      the user has changed while using the app will keep that change, as\n",
      " |      long as the new `date` also matches what was given originally.\n",
      " |      Used in conjunction with `persistence_type`.\n",
      " |  \n",
      " |  - persistence_type (a value equal to: 'local', 'session', 'memory'; default 'local'):\n",
      " |      Where persisted user changes will be stored: memory: only kept in\n",
      " |      memory, reset on page refresh. local: window.localStorage, data is\n",
      " |      kept after the browser quit. session: window.sessionStorage, data\n",
      " |      is cleared once the browser quit.\n",
      " |  \n",
      " |  - placeholder (string; optional):\n",
      " |      Text that will be displayed in the input box of the date picker\n",
      " |      when no date is selected. Default value is 'Start Date'.\n",
      " |  \n",
      " |  - reopen_calendar_on_clear (boolean; default False):\n",
      " |      If True, the calendar will automatically open when cleared.\n",
      " |  \n",
      " |  - show_outside_days (boolean; default True):\n",
      " |      If True the calendar will display days that rollover into the next\n",
      " |      month.\n",
      " |  \n",
      " |  - stay_open_on_select (boolean; default False):\n",
      " |      If True the calendar will not close when the user has selected a\n",
      " |      value and will wait until the user clicks off the calendar.\n",
      " |  \n",
      " |  - style (dict; optional):\n",
      " |      CSS styles appended to wrapper div.\n",
      " |  \n",
      " |  - with_full_screen_portal (boolean; default False):\n",
      " |      If True, calendar will open in a full screen overlay portal, will\n",
      " |      take precedent over 'withPortal' if both are set to True, not\n",
      " |      supported on vertical calendar.\n",
      " |  \n",
      " |  - with_portal (boolean; default False):\n",
      " |      If True, calendar will open in a screen overlay portal, not\n",
      " |      supported on vertical calendar.\n",
      " |  \n",
      " |  Method resolution order:\n",
      " |      DatePickerSingle\n",
      " |      dash.development.base_component.Component\n",
      " |      builtins.object\n",
      " |  \n",
      " |  Methods defined here:\n",
      " |  \n",
      " |  __init__ = wrapper(self, id=undefined, date=undefined, min_date_allowed=undefined, max_date_allowed=undefined, initial_visible_month=undefined, day_size=undefined, calendar_orientation=undefined, is_RTL=undefined, placeholder=undefined, reopen_calendar_on_clear=undefined, number_of_months_shown=undefined, with_portal=undefined, with_full_screen_portal=undefined, first_day_of_week=undefined, stay_open_on_select=undefined, show_outside_days=undefined, month_format=undefined, display_format=undefined, disabled=undefined, clearable=undefined, style=undefined, className=undefined, loading_state=undefined, persistence=undefined, persisted_props=undefined, persistence_type=undefined, **kwargs)\n",
      " |  \n",
      " |  ----------------------------------------------------------------------\n",
      " |  Data and other attributes defined here:\n",
      " |  \n",
      " |  __abstractmethods__ = frozenset()\n",
      " |  \n",
      " |  ----------------------------------------------------------------------\n",
      " |  Methods inherited from dash.development.base_component.Component:\n",
      " |  \n",
      " |  __delitem__(self, id)\n",
      " |      Delete items by ID in the tree of children.\n",
      " |  \n",
      " |  __getitem__(self, id)\n",
      " |      Recursively find the element with the given ID through the tree of\n",
      " |      children.\n",
      " |  \n",
      " |  __iter__(self)\n",
      " |      Yield IDs in the tree of children.\n",
      " |  \n",
      " |  __len__(self)\n",
      " |      Return the number of items in the tree.\n",
      " |  \n",
      " |  __repr__(self)\n",
      " |      Return repr(self).\n",
      " |  \n",
      " |  __setitem__(self, id, item)\n",
      " |      Set an element by its ID.\n",
      " |  \n",
      " |  to_plotly_json(self)\n",
      " |  \n",
      " |  ----------------------------------------------------------------------\n",
      " |  Data descriptors inherited from dash.development.base_component.Component:\n",
      " |  \n",
      " |  __dict__\n",
      " |      dictionary for instance variables (if defined)\n",
      " |  \n",
      " |  __weakref__\n",
      " |      list of weak references to the object (if defined)\n",
      " |  \n",
      " |  ----------------------------------------------------------------------\n",
      " |  Data and other attributes inherited from dash.development.base_component.Component:\n",
      " |  \n",
      " |  REQUIRED = required\n",
      " |  \n",
      " |  UNDEFINED = undefined\n",
      "\n"
     ]
    }
   ],
   "source": [
    "help(dcc.DatePickerSingle)"
   ]
  },
  {
   "cell_type": "markdown",
   "id": "b5a71125",
   "metadata": {},
   "source": [
    "Our inputs will be fed into our [decorated function](https://www.python.org/dev/peps/pep-0318/) in the same order as the list.\n",
    "\n",
    "* `date_value` corresponds to `my-date-picker-single`'s `date`\n",
    "* `show_zeros` corresponds to `show-zeros`'s `on`\n",
    "\n",
    "After this setup, we can create our function in Python as normal and do pretty much whatever we want, so long as the function ends up returning something to match what our output expects, in this case, a figure.\n",
    "\n",
    "**TODO:** Add your style from the previous lab. We've made a copy of the cell below in the following `...` as a reference."
   ]
  },
  {
   "cell_type": "code",
   "execution_count": 9,
   "id": "3b6b6d8a",
   "metadata": {},
   "outputs": [],
   "source": [
    "import dash\n",
    "import plotly.graph_objects as go\n",
    "import pandas as pd\n",
    "\n",
    "@app.callback(\n",
    "    dash.dependencies.Output('precipitation-map', 'figure'),\n",
    "    [dash.dependencies.Input('my-date-picker-single', 'date'),\n",
    "    dash.dependencies.Input('show-zeros', 'on')])\n",
    "def update_graph(date_value, show_zeros):\n",
    "    dff = df[df.index==date_value]\n",
    "    dff = dff if show_zeros else dff[dff[\"Inches\"] != 0]\n",
    "    dff = dff.to_pandas()\n",
    "\n",
    "    fig = go.Figure([go.Scattergeo(\n",
    "        lon=dff['LONGITUDE'],\n",
    "        lat=dff['LATITUDE'],\n",
    "        mode='markers',\n",
    "        marker_color=dff['Inches'],\n",
    "        marker = dict(\n",
    "            reversescale = True,\n",
    "            autocolorscale = False,\n",
    "            colorscale = 'Blues',\n",
    "            cmin = 0,\n",
    "            color = dff['Inches'],\n",
    "            cmax = dff['Inches'].max(),\n",
    "            colorbar_title=\"Precipitation in Hundredths of an Inch\"\n",
    "        ),\n",
    "        text=dff['TEXT'])])\n",
    "\n",
    "    fig.update_layout(\n",
    "        title = 'USA Precipitation for ' + str(date_value),\n",
    "        geo = dict(\n",
    "            scope='usa',\n",
    "            projection_type='albers usa',\n",
    "            landcolor = \"rgb(225, 225, 225)\",\n",
    "            subunitcolor = \"rgb(200, 200, 200)\",\n",
    "        ),\n",
    "    )\n",
    "\n",
    "    return fig"
   ]
  },
  {
   "cell_type": "code",
   "execution_count": 11,
   "id": "024edf09",
   "metadata": {},
   "outputs": [],
   "source": [
    "import dash\n",
    "import plotly.graph_objects as go\n",
    "import pandas as pd\n",
    "\n",
    "@app.callback(\n",
    "    dash.dependencies.Output('precipitation-map', 'figure'),\n",
    "    [dash.dependencies.Input('my-date-picker-single', 'date'),\n",
    "    dash.dependencies.Input('show-zeros', 'on')])\n",
    "def update_graph(date_value, show_zeros):\n",
    "    dff = df[df.index==date_value]\n",
    "    dff = dff if show_zeros else dff[dff[\"Inches\"] != 0]\n",
    "    dff = dff.to_pandas()\n",
    "\n",
    "    fig = go.Figure([go.Scattergeo(\n",
    "        lon=dff['LONGITUDE'],\n",
    "        lat=dff['LATITUDE'],\n",
    "        mode='markers',\n",
    "        marker_color=dff['Inches'],\n",
    "        marker = dict(\n",
    "            reversescale = True,\n",
    "            autocolorscale = False,\n",
    "            colorscale = 'Blues',\n",
    "            cmin = 0,\n",
    "            color = dff['Inches'],\n",
    "            cmax = dff['Inches'].max(),\n",
    "            colorbar_title=\"Precipitation in Hundredths of an Inch\"\n",
    "        ),\n",
    "        text=dff['TEXT'])])\n",
    "\n",
    "    fig.update_layout(\n",
    "        title = 'USA Precipitation for ' + str(date_value),\n",
    "        geo = dict(\n",
    "            scope='usa',\n",
    "            projection_type='albers usa',\n",
    "            landcolor = \"rgb(225, 225, 225)\",\n",
    "            subunitcolor = \"rgb(200, 200, 200)\",\n",
    "        ),\n",
    "    )\n",
    "\n",
    "    return fig"
   ]
  },
  {
   "cell_type": "markdown",
   "id": "f3868bd4",
   "metadata": {},
   "source": [
    "The below cell will start the server. The [debug](https://dash.plotly.com/devtools) parameter will add a blue button on the bottom right of dashboard that will keep track of our errors as opposed to displaying them in our terminal."
   ]
  },
  {
   "cell_type": "code",
   "execution_count": 12,
   "id": "fe80f37e",
   "metadata": {},
   "outputs": [
    {
     "name": "stdout",
     "output_type": "stream",
     "text": [
      "Dash app running on http://0.0.0.0:8050/\n"
     ]
    },
    {
     "name": "stderr",
     "output_type": "stream",
     "text": [
      "/opt/conda/envs/rapids/lib/python3.7/site-packages/jupyter_dash/jupyter_app.py:139: UserWarning: The 'environ['werkzeug.server.shutdown']' function is deprecated and will be removed in Werkzeug 2.1.\n",
      "  func()\n"
     ]
    }
   ],
   "source": [
    "if __name__ == '__main__':\n",
    "    app.run_server(host='0.0.0.0', debug=True)"
   ]
  },
  {
   "cell_type": "markdown",
   "id": "de0215b2",
   "metadata": {},
   "source": [
    "Ready to see your dashboard in action? Copy and paste the URL (web address) for this notebook and set it to my_url below. Click on it to check out the dashboard!"
   ]
  },
  {
   "cell_type": "code",
   "execution_count": null,
   "id": "fc2d7937",
   "metadata": {},
   "outputs": [],
   "source": [
    "from IPython.core.display import display, HTML\n",
    "my_url = \"COPY_NOTEBOOK_URL\"\n",
    "my_url = my_url.rsplit(\".com\", 1)[0] + \".com/plotly\"\n",
    "display(HTML('<a href=\"' + my_url + '\">To the dashboard!</a>'))"
   ]
  },
  {
   "cell_type": "markdown",
   "id": "f9107a8d",
   "metadata": {},
   "source": [
    "Happy with the result? Want to make some changes? The app will need to be rebuilt in order to properly display any updates. `app._terminate_server_for_port(\"localhost\", 8050)` will shut down the app and `del app` will destroy the app so it can be redefined.\n",
    "\n",
    "This way, we do not have to reload our data.\n",
    "\n",
    "**There will be a duplicate callback error if the cell definining the callbacks was ran more than once. Delete `app` and redefine it to remove the error.**\n",
    "\n",
    "If you're feeling ready for the assessment, please run the cell below again to free up resources for the assessment."
   ]
  },
  {
   "cell_type": "code",
   "execution_count": null,
   "id": "e81bc4b4",
   "metadata": {},
   "outputs": [],
   "source": [
    "app._terminate_server_for_port(\"localhost\", 8050)\n",
    "del app"
   ]
  },
  {
   "cell_type": "markdown",
   "id": "f74786be",
   "metadata": {},
   "source": [
    "Congrats on getting through the course! All that's left is the assessment. Good luck!\n",
    "\n",
    "Interested in taking your dashboarding skills even further? This exercise was inspired by a partnership between Plotly and NVIDIA to make an interactive [COVID Cases Dashboard](https://medium.com/plotly/plotly-and-nvidia-partner-to-integrate-dash-and-rapids-8a8c53cd7daf). All the code for it is available freely on [GitHub](https://github.com/rapidsai/plotly-dash-rapids-census-demo/tree/covid-19)."
   ]
  },
  {
   "cell_type": "code",
   "execution_count": null,
   "id": "939f7e31",
   "metadata": {},
   "outputs": [],
   "source": [
    "import IPython\n",
    "app = IPython.Application.instance()\n",
    "app.kernel.do_shutdown(True)"
   ]
  },
  {
   "cell_type": "markdown",
   "id": "d311d854",
   "metadata": {},
   "source": [
    "<a href=\"https://www.nvidia.com/dli\"> <img src=\"images/DLI_Header.png\" alt=\"Header\" style=\"width: 400px;\"/> </a>"
   ]
  }
 ],
 "metadata": {
  "kernelspec": {
   "display_name": "Python 3",
   "language": "python",
   "name": "python3"
  },
  "language_info": {
   "codemirror_mode": {
    "name": "ipython",
    "version": 3
   },
   "file_extension": ".py",
   "mimetype": "text/x-python",
   "name": "python",
   "nbconvert_exporter": "python",
   "pygments_lexer": "ipython3",
   "version": "3.7.10"
  }
 },
 "nbformat": 4,
 "nbformat_minor": 5
}
